{
 "cells": [
  {
   "cell_type": "markdown",
   "source": [
    "<h2>Importe</h2>"
   ],
   "metadata": {
    "collapsed": false,
    "pycharm": {
     "name": "#%% md\n"
    }
   }
  },
  {
   "cell_type": "code",
   "execution_count": 1,
   "outputs": [],
   "source": [
    "import pickle\n",
    "\n",
    "import numpy\n",
    "import pandas as pd\n",
    "import numpy as np\n",
    "import os\n",
    "import src.data as data\n",
    "import torch\n",
    "import os\n",
    "from sklearn import metrics\n",
    "import matplotlib.pyplot as plt\n",
    "import math\n"
   ],
   "metadata": {
    "collapsed": false,
    "pycharm": {
     "name": "#%%\n"
    }
   }
  },
  {
   "cell_type": "markdown",
   "source": [
    "<h2>Methoden</h2>"
   ],
   "metadata": {
    "collapsed": false,
    "pycharm": {
     "name": "#%% md\n"
    }
   }
  },
  {
   "cell_type": "code",
   "execution_count": 2,
   "outputs": [],
   "source": [
    "#Straight up stolen from main.py\n",
    "def calc_roc_auc(gts, probs):\n",
    "    try:\n",
    "        auc = metrics.roc_auc_score(gts, probs)\n",
    "        if np.isnan(auc):\n",
    "            auc = 0\n",
    "\n",
    "        return auc\n",
    "    except:\n",
    "        print(\"except\")\n",
    "        return 0\n"
   ],
   "metadata": {
    "collapsed": false,
    "pycharm": {
     "name": "#%%\n"
    }
   }
  },
  {
   "cell_type": "code",
   "execution_count": 3,
   "outputs": [],
   "source": [
    "def map_value(value):\n",
    "    if value >= 0.5:\n",
    "        return 1\n",
    "    else:\n",
    "        return 0"
   ],
   "metadata": {
    "collapsed": false,
    "pycharm": {
     "name": "#%%\n"
    }
   }
  },
  {
   "cell_type": "markdown",
   "source": [
    "<h2>Laden der gespeicherten Daten und der Modelle</h2>"
   ],
   "metadata": {
    "collapsed": false,
    "pycharm": {
     "name": "#%% md\n"
    }
   }
  },
  {
   "cell_type": "code",
   "execution_count": 4,
   "outputs": [],
   "source": [
    "data_list = []\n",
    "with open(r\"C:\\Users\\ReneJ\\Desktop\\UnityStuff\\patway-net\\data_plot\\test_data\", \"rb\") as input:\n",
    "    while True:\n",
    "        try:\n",
    "            x = pickle.load(input)\n",
    "        except EOFError:\n",
    "            break\n",
    "        data_list.append(x)\n",
    "\n"
   ],
   "metadata": {
    "collapsed": false,
    "pycharm": {
     "name": "#%%\n"
    }
   }
  },
  {
   "cell_type": "code",
   "execution_count": 7,
   "outputs": [
    {
     "data": {
      "text/plain": "5"
     },
     "execution_count": 7,
     "metadata": {},
     "output_type": "execute_result"
    }
   ],
   "source": [
    "len(data_list)"
   ],
   "metadata": {
    "collapsed": false,
    "pycharm": {
     "name": "#%%\n"
    }
   }
  },
  {
   "cell_type": "code",
   "execution_count": 5,
   "outputs": [],
   "source": [
    "model_list = []\n",
    "dir = r\"C:\\Users\\ReneJ\\Desktop\\UnityStuff\\patway-net\\model\"\n",
    "for file in os.listdir(dir):\n",
    "    filename = os.fsdecode(file)\n",
    "    if \"_15\" in filename:\n",
    "        model_list.append(torch.load(dir + \"\\\\\" + file))\n"
   ],
   "metadata": {
    "collapsed": false,
    "pycharm": {
     "name": "#%%\n"
    }
   }
  },
  {
   "cell_type": "code",
   "execution_count": 9,
   "outputs": [
    {
     "data": {
      "text/plain": "5"
     },
     "execution_count": 9,
     "metadata": {},
     "output_type": "execute_result"
    }
   ],
   "source": [
    "len(model_list)"
   ],
   "metadata": {
    "collapsed": false,
    "pycharm": {
     "name": "#%%\n"
    }
   }
  },
  {
   "cell_type": "code",
   "execution_count": 6,
   "outputs": [],
   "source": [
    "lowest_len = math.inf\n",
    "for ds in data_list:\n",
    "    if len(ds[\"x_test_seq\"]) < lowest_len:\n",
    "        lowest_len = len(ds[\"x_test_seq\"])\n"
   ],
   "metadata": {
    "collapsed": false,
    "pycharm": {
     "name": "#%%\n"
    }
   }
  },
  {
   "cell_type": "code",
   "execution_count": 11,
   "outputs": [
    {
     "data": {
      "text/plain": "183"
     },
     "execution_count": 11,
     "metadata": {},
     "output_type": "execute_result"
    }
   ],
   "source": [
    "lowest_len"
   ],
   "metadata": {
    "collapsed": false,
    "pycharm": {
     "name": "#%%\n"
    }
   }
  },
  {
   "cell_type": "code",
   "execution_count": 59,
   "outputs": [
    {
     "data": {
      "text/plain": "array([[[0., 0., 0., ..., 0., 0., 0.],\n        [0., 0., 0., ..., 0., 0., 0.],\n        [0., 0., 0., ..., 0., 0., 0.],\n        ...,\n        [0., 0., 0., ..., 0., 0., 0.],\n        [0., 0., 0., ..., 0., 0., 0.],\n        [0., 0., 0., ..., 0., 0., 0.]],\n\n       [[0., 0., 0., ..., 0., 0., 0.],\n        [0., 0., 0., ..., 0., 0., 0.],\n        [0., 0., 0., ..., 0., 0., 0.],\n        ...,\n        [0., 0., 0., ..., 0., 0., 0.],\n        [0., 0., 0., ..., 0., 0., 0.],\n        [0., 0., 0., ..., 0., 0., 0.]],\n\n       [[0., 0., 0., ..., 0., 0., 0.],\n        [0., 0., 0., ..., 0., 0., 0.],\n        [0., 0., 0., ..., 0., 0., 0.],\n        ...,\n        [0., 0., 0., ..., 0., 0., 0.],\n        [0., 0., 0., ..., 0., 0., 0.],\n        [0., 0., 0., ..., 0., 0., 0.]],\n\n       [[0., 0., 0., ..., 0., 0., 0.],\n        [0., 0., 0., ..., 0., 0., 0.],\n        [0., 0., 0., ..., 0., 0., 0.],\n        ...,\n        [0., 0., 0., ..., 0., 0., 0.],\n        [0., 0., 0., ..., 0., 0., 0.],\n        [0., 0., 0., ..., 0., 0., 0.]],\n\n       [[0., 0., 0., ..., 0., 0., 0.],\n        [0., 0., 0., ..., 0., 0., 0.],\n        [0., 0., 0., ..., 0., 0., 0.],\n        ...,\n        [0., 0., 0., ..., 0., 0., 0.],\n        [0., 0., 0., ..., 0., 0., 0.],\n        [0., 0., 0., ..., 0., 0., 0.]]], dtype=float32)"
     },
     "execution_count": 59,
     "metadata": {},
     "output_type": "execute_result"
    }
   ],
   "source": [
    "(data_list[0][\"x_test_seq\"][5:10])"
   ],
   "metadata": {
    "collapsed": false,
    "pycharm": {
     "name": "#%%\n"
    }
   }
  },
  {
   "cell_type": "code",
   "execution_count": 8,
   "outputs": [],
   "source": [
    "def getPrefixLength(seq, sample):\n",
    "    counter = 0\n",
    "    rowCounter = -1\n",
    "    lastRow = None\n",
    "    actualPrefixRows = 0\n",
    "    for matrix in seq[sample,:,:]:\n",
    "        #print(matrix)\n",
    "        rowCounter += 1\n",
    "\n",
    "        notZero = False\n",
    "\n",
    "        for x in matrix:\n",
    "            x = float(x)\n",
    "            if x != 0:\n",
    "                notZero = True\n",
    "                break\n",
    "\n",
    "        if notZero:\n",
    "            lastRow = matrix\n",
    "            actualPrefixRows = rowCounter\n",
    "\n",
    "    if lastRow != None:\n",
    "        for entry in lastRow:\n",
    "            if entry == 0:\n",
    "                counter += 1\n",
    "\n",
    "            if entry != 0:\n",
    "                counter += 1\n",
    "                break\n",
    "\n",
    "    #print(actualPrefixRows)\n",
    "    #print(counter)\n",
    "    #print(rowCounter)\n",
    "    #print(lastRow)\n",
    "\n",
    "    return counter + (actualPrefixRows * len(lastRow))"
   ],
   "metadata": {
    "collapsed": false,
    "pycharm": {
     "name": "#%%\n"
    }
   }
  },
  {
   "cell_type": "code",
   "execution_count": 9,
   "outputs": [
    {
     "data": {
      "text/plain": "tensor([[0.0000, 0.0000, 0.0000, 1.0000, 0.0000, 0.0000, 0.0000, 0.0000, 0.0000,\n         0.0000, 0.0000, 0.0000, 0.0000, 0.0000, 0.0000, 0.0000],\n        [0.0000, 0.0000, 0.0000, 0.0000, 1.0000, 0.0000, 0.0000, 0.0000, 0.0000,\n         0.0000, 0.0000, 0.0000, 0.0000, 0.0000, 0.0000, 0.0000],\n        [0.0000, 0.0000, 0.0000, 0.0000, 0.0000, 1.0000, 0.0000, 0.0000, 0.0000,\n         0.0000, 0.0000, 0.0000, 0.0000, 0.0000, 0.0000, 0.0000],\n        [0.0000, 0.5404, 0.0000, 0.0000, 0.0000, 0.0000, 0.0000, 0.0000, 0.0000,\n         0.0000, 0.0000, 0.0000, 0.0000, 0.0000, 0.0000, 0.0000],\n        [0.0000, 0.5404, 0.2261, 0.0000, 0.0000, 0.0000, 0.0000, 0.0000, 0.0000,\n         0.0000, 0.0000, 0.0000, 0.0000, 0.0000, 0.0000, 0.0000],\n        [0.0000, 0.0000, 0.0000, 0.0000, 0.0000, 0.0000, 0.0000, 0.0000, 0.0000,\n         0.0000, 0.0000, 0.0000, 0.0000, 0.0000, 0.0000, 0.0000],\n        [0.0000, 0.0000, 0.0000, 0.0000, 0.0000, 0.0000, 0.0000, 0.0000, 0.0000,\n         0.0000, 0.0000, 0.0000, 0.0000, 0.0000, 0.0000, 0.0000],\n        [0.0000, 0.0000, 0.0000, 0.0000, 0.0000, 0.0000, 0.0000, 0.0000, 0.0000,\n         0.0000, 0.0000, 0.0000, 0.0000, 0.0000, 0.0000, 0.0000],\n        [0.0000, 0.0000, 0.0000, 0.0000, 0.0000, 0.0000, 0.0000, 0.0000, 0.0000,\n         0.0000, 0.0000, 0.0000, 0.0000, 0.0000, 0.0000, 0.0000],\n        [0.0000, 0.0000, 0.0000, 0.0000, 0.0000, 0.0000, 0.0000, 0.0000, 0.0000,\n         0.0000, 0.0000, 0.0000, 0.0000, 0.0000, 0.0000, 0.0000],\n        [0.0000, 0.0000, 0.0000, 0.0000, 0.0000, 0.0000, 0.0000, 0.0000, 0.0000,\n         0.0000, 0.0000, 0.0000, 0.0000, 0.0000, 0.0000, 0.0000],\n        [0.0000, 0.0000, 0.0000, 0.0000, 0.0000, 0.0000, 0.0000, 0.0000, 0.0000,\n         0.0000, 0.0000, 0.0000, 0.0000, 0.0000, 0.0000, 0.0000],\n        [0.0000, 0.0000, 0.0000, 0.0000, 0.0000, 0.0000, 0.0000, 0.0000, 0.0000,\n         0.0000, 0.0000, 0.0000, 0.0000, 0.0000, 0.0000, 0.0000],\n        [0.0000, 0.0000, 0.0000, 0.0000, 0.0000, 0.0000, 0.0000, 0.0000, 0.0000,\n         0.0000, 0.0000, 0.0000, 0.0000, 0.0000, 0.0000, 0.0000],\n        [0.0000, 0.0000, 0.0000, 0.0000, 0.0000, 0.0000, 0.0000, 0.0000, 0.0000,\n         0.0000, 0.0000, 0.0000, 0.0000, 0.0000, 0.0000, 0.0000],\n        [0.0000, 0.0000, 0.0000, 0.0000, 0.0000, 0.0000, 0.0000, 0.0000, 0.0000,\n         0.0000, 0.0000, 0.0000, 0.0000, 0.0000, 0.0000, 0.0000],\n        [0.0000, 0.0000, 0.0000, 0.0000, 0.0000, 0.0000, 0.0000, 0.0000, 0.0000,\n         0.0000, 0.0000, 0.0000, 0.0000, 0.0000, 0.0000, 0.0000],\n        [0.0000, 0.0000, 0.0000, 0.0000, 0.0000, 0.0000, 0.0000, 0.0000, 0.0000,\n         0.0000, 0.0000, 0.0000, 0.0000, 0.0000, 0.0000, 0.0000],\n        [0.0000, 0.0000, 0.0000, 0.0000, 0.0000, 0.0000, 0.0000, 0.0000, 0.0000,\n         0.0000, 0.0000, 0.0000, 0.0000, 0.0000, 0.0000, 0.0000],\n        [0.0000, 0.0000, 0.0000, 0.0000, 0.0000, 0.0000, 0.0000, 0.0000, 0.0000,\n         0.0000, 0.0000, 0.0000, 0.0000, 0.0000, 0.0000, 0.0000],\n        [0.0000, 0.0000, 0.0000, 0.0000, 0.0000, 0.0000, 0.0000, 0.0000, 0.0000,\n         0.0000, 0.0000, 0.0000, 0.0000, 0.0000, 0.0000, 0.0000],\n        [0.0000, 0.0000, 0.0000, 0.0000, 0.0000, 0.0000, 0.0000, 0.0000, 0.0000,\n         0.0000, 0.0000, 0.0000, 0.0000, 0.0000, 0.0000, 0.0000],\n        [0.0000, 0.0000, 0.0000, 0.0000, 0.0000, 0.0000, 0.0000, 0.0000, 0.0000,\n         0.0000, 0.0000, 0.0000, 0.0000, 0.0000, 0.0000, 0.0000],\n        [0.0000, 0.0000, 0.0000, 0.0000, 0.0000, 0.0000, 0.0000, 0.0000, 0.0000,\n         0.0000, 0.0000, 0.0000, 0.0000, 0.0000, 0.0000, 0.0000],\n        [0.0000, 0.0000, 0.0000, 0.0000, 0.0000, 0.0000, 0.0000, 0.0000, 0.0000,\n         0.0000, 0.0000, 0.0000, 0.0000, 0.0000, 0.0000, 0.0000],\n        [0.0000, 0.0000, 0.0000, 0.0000, 0.0000, 0.0000, 0.0000, 0.0000, 0.0000,\n         0.0000, 0.0000, 0.0000, 0.0000, 0.0000, 0.0000, 0.0000],\n        [0.0000, 0.0000, 0.0000, 0.0000, 0.0000, 0.0000, 0.0000, 0.0000, 0.0000,\n         0.0000, 0.0000, 0.0000, 0.0000, 0.0000, 0.0000, 0.0000],\n        [0.0000, 0.0000, 0.0000, 0.0000, 0.0000, 0.0000, 0.0000, 0.0000, 0.0000,\n         0.0000, 0.0000, 0.0000, 0.0000, 0.0000, 0.0000, 0.0000],\n        [0.0000, 0.0000, 0.0000, 0.0000, 0.0000, 0.0000, 0.0000, 0.0000, 0.0000,\n         0.0000, 0.0000, 0.0000, 0.0000, 0.0000, 0.0000, 0.0000],\n        [0.0000, 0.0000, 0.0000, 0.0000, 0.0000, 0.0000, 0.0000, 0.0000, 0.0000,\n         0.0000, 0.0000, 0.0000, 0.0000, 0.0000, 0.0000, 0.0000],\n        [0.0000, 0.0000, 0.0000, 0.0000, 0.0000, 0.0000, 0.0000, 0.0000, 0.0000,\n         0.0000, 0.0000, 0.0000, 0.0000, 0.0000, 0.0000, 0.0000],\n        [0.0000, 0.0000, 0.0000, 0.0000, 0.0000, 0.0000, 0.0000, 0.0000, 0.0000,\n         0.0000, 0.0000, 0.0000, 0.0000, 0.0000, 0.0000, 0.0000],\n        [0.0000, 0.0000, 0.0000, 0.0000, 0.0000, 0.0000, 0.0000, 0.0000, 0.0000,\n         0.0000, 0.0000, 0.0000, 0.0000, 0.0000, 0.0000, 0.0000],\n        [0.0000, 0.0000, 0.0000, 0.0000, 0.0000, 0.0000, 0.0000, 0.0000, 0.0000,\n         0.0000, 0.0000, 0.0000, 0.0000, 0.0000, 0.0000, 0.0000],\n        [0.0000, 0.0000, 0.0000, 0.0000, 0.0000, 0.0000, 0.0000, 0.0000, 0.0000,\n         0.0000, 0.0000, 0.0000, 0.0000, 0.0000, 0.0000, 0.0000],\n        [0.0000, 0.0000, 0.0000, 0.0000, 0.0000, 0.0000, 0.0000, 0.0000, 0.0000,\n         0.0000, 0.0000, 0.0000, 0.0000, 0.0000, 0.0000, 0.0000],\n        [0.0000, 0.0000, 0.0000, 0.0000, 0.0000, 0.0000, 0.0000, 0.0000, 0.0000,\n         0.0000, 0.0000, 0.0000, 0.0000, 0.0000, 0.0000, 0.0000],\n        [0.0000, 0.0000, 0.0000, 0.0000, 0.0000, 0.0000, 0.0000, 0.0000, 0.0000,\n         0.0000, 0.0000, 0.0000, 0.0000, 0.0000, 0.0000, 0.0000],\n        [0.0000, 0.0000, 0.0000, 0.0000, 0.0000, 0.0000, 0.0000, 0.0000, 0.0000,\n         0.0000, 0.0000, 0.0000, 0.0000, 0.0000, 0.0000, 0.0000],\n        [0.0000, 0.0000, 0.0000, 0.0000, 0.0000, 0.0000, 0.0000, 0.0000, 0.0000,\n         0.0000, 0.0000, 0.0000, 0.0000, 0.0000, 0.0000, 0.0000],\n        [0.0000, 0.0000, 0.0000, 0.0000, 0.0000, 0.0000, 0.0000, 0.0000, 0.0000,\n         0.0000, 0.0000, 0.0000, 0.0000, 0.0000, 0.0000, 0.0000],\n        [0.0000, 0.0000, 0.0000, 0.0000, 0.0000, 0.0000, 0.0000, 0.0000, 0.0000,\n         0.0000, 0.0000, 0.0000, 0.0000, 0.0000, 0.0000, 0.0000],\n        [0.0000, 0.0000, 0.0000, 0.0000, 0.0000, 0.0000, 0.0000, 0.0000, 0.0000,\n         0.0000, 0.0000, 0.0000, 0.0000, 0.0000, 0.0000, 0.0000],\n        [0.0000, 0.0000, 0.0000, 0.0000, 0.0000, 0.0000, 0.0000, 0.0000, 0.0000,\n         0.0000, 0.0000, 0.0000, 0.0000, 0.0000, 0.0000, 0.0000],\n        [0.0000, 0.0000, 0.0000, 0.0000, 0.0000, 0.0000, 0.0000, 0.0000, 0.0000,\n         0.0000, 0.0000, 0.0000, 0.0000, 0.0000, 0.0000, 0.0000],\n        [0.0000, 0.0000, 0.0000, 0.0000, 0.0000, 0.0000, 0.0000, 0.0000, 0.0000,\n         0.0000, 0.0000, 0.0000, 0.0000, 0.0000, 0.0000, 0.0000],\n        [0.0000, 0.0000, 0.0000, 0.0000, 0.0000, 0.0000, 0.0000, 0.0000, 0.0000,\n         0.0000, 0.0000, 0.0000, 0.0000, 0.0000, 0.0000, 0.0000],\n        [0.0000, 0.0000, 0.0000, 0.0000, 0.0000, 0.0000, 0.0000, 0.0000, 0.0000,\n         0.0000, 0.0000, 0.0000, 0.0000, 0.0000, 0.0000, 0.0000],\n        [0.0000, 0.0000, 0.0000, 0.0000, 0.0000, 0.0000, 0.0000, 0.0000, 0.0000,\n         0.0000, 0.0000, 0.0000, 0.0000, 0.0000, 0.0000, 0.0000],\n        [0.0000, 0.0000, 0.0000, 0.0000, 0.0000, 0.0000, 0.0000, 0.0000, 0.0000,\n         0.0000, 0.0000, 0.0000, 0.0000, 0.0000, 0.0000, 0.0000]])"
     },
     "execution_count": 9,
     "metadata": {},
     "output_type": "execute_result"
    }
   ],
   "source": [
    "getPrefixLength((torch.from_numpy(data_list[0][\"x_test_seq\"])), 23)\n",
    "torch.from_numpy(data_list[0][\"x_test_seq\"])[51,:,:]\n",
    "#torch.from_numpy(data_list[0][\"x_test_seq\"])[0]"
   ],
   "metadata": {
    "collapsed": false,
    "pycharm": {
     "name": "#%%\n"
    }
   }
  },
  {
   "cell_type": "code",
   "execution_count": 10,
   "outputs": [],
   "source": [
    "def getPrefixDictionary(seq):\n",
    "    samples = seq.shape[0]\n",
    "    print(samples)\n",
    "\n",
    "    mapList = []\n",
    "    uniquePrefixSizes = []\n",
    "    for t in range(0, samples):\n",
    "        indexPrefixSizeMap = {\"index\" : t, \"prefixSize\" : getPrefixLength(seq, t)}\n",
    "        #print(\"sample \" + str(t) + \": \" + str(getPrefixLength(seq, t)))\n",
    "        mapList.append(indexPrefixSizeMap)\n",
    "        uniquePrefixSizes.append(getPrefixLength(seq, t))\n",
    "\n",
    "    uniquePrefixSizes = set(uniquePrefixSizes)\n",
    "    #print(uniquePrefixSizes)\n",
    "\n",
    "    prefixDictionaryList = []\n",
    "\n",
    "    for prefixSize in uniquePrefixSizes:\n",
    "        prefixDictionary = {}\n",
    "        prefixDictionary[\"prefixSize\"] = prefixSize\n",
    "        prefixDictionary[\"indizes\"] = []\n",
    "        for entry in mapList:\n",
    "            if entry[\"prefixSize\"] == prefixSize:\n",
    "                prefixDictionary[\"indizes\"].append(entry[\"index\"])\n",
    "        prefixDictionaryList.append(prefixDictionary)\n",
    "\n",
    "    #print(prefixDictionary)\n",
    "    return prefixDictionaryList\n"
   ],
   "metadata": {
    "collapsed": false,
    "pycharm": {
     "name": "#%%\n"
    }
   }
  },
  {
   "cell_type": "code",
   "execution_count": 12,
   "outputs": [
    {
     "name": "stdout",
     "output_type": "stream",
     "text": [
      "183\n",
      "[{'prefixSize': 129, 'indizes': [8, 24, 41, 55, 70, 102, 122, 144, 164, 177]}, {'prefixSize': 257, 'indizes': [32]}, {'prefixSize': 4, 'indizes': [0, 16, 33, 44, 47, 62, 72, 80, 88, 94, 106, 114, 125, 133, 136, 151, 156, 169]}, {'prefixSize': 145, 'indizes': [9, 25, 42, 56, 71, 103, 123, 145, 165, 178]}, {'prefixSize': 21, 'indizes': [1, 17, 34, 45, 48, 63, 73, 81, 89, 95, 107, 115, 126, 134, 137, 152, 157, 170]}, {'prefixSize': 161, 'indizes': [10, 26, 43, 57, 104, 124, 146, 166, 179]}, {'prefixSize': 34, 'indizes': [74]}, {'prefixSize': 38, 'indizes': [2, 18, 35, 46, 49, 64, 82, 90, 96, 108, 116, 127, 135, 138, 153, 158, 171]}, {'prefixSize': 177, 'indizes': [11, 27, 58, 105, 147, 167, 180]}, {'prefixSize': 50, 'indizes': [50, 75, 109, 139]}, {'prefixSize': 51, 'indizes': [19, 36]}, {'prefixSize': 49, 'indizes': [65, 91, 117, 154, 159]}, {'prefixSize': 55, 'indizes': [3, 83, 97, 128, 172]}, {'prefixSize': 193, 'indizes': [12, 28, 59, 148, 168, 181]}, {'prefixSize': 65, 'indizes': [20, 37, 66, 76, 92, 118, 129, 155, 160]}, {'prefixSize': 66, 'indizes': [51, 110, 140]}, {'prefixSize': 72, 'indizes': [4, 84, 85, 98, 173]}, {'prefixSize': 209, 'indizes': [13, 29, 60, 149, 182]}, {'prefixSize': 82, 'indizes': [5, 111, 174]}, {'prefixSize': 81, 'indizes': [21, 38, 52, 67, 77, 93, 99, 119, 130, 141, 161]}, {'prefixSize': 225, 'indizes': [14, 30, 61, 150]}, {'prefixSize': 98, 'indizes': [6, 112]}, {'prefixSize': 97, 'indizes': [22, 39, 53, 68, 78, 86, 100, 120, 131, 142, 162, 175]}, {'prefixSize': 113, 'indizes': [7, 23, 40, 54, 69, 79, 87, 101, 121, 132, 143, 163, 176]}, {'prefixSize': 241, 'indizes': [15, 31]}, {'prefixSize': 114, 'indizes': [113]}]\n"
     ]
    }
   ],
   "source": [
    "print(getPrefixDictionary((torch.from_numpy(data_list[0][\"x_test_seq\"]))))"
   ],
   "metadata": {
    "collapsed": false,
    "pycharm": {
     "name": "#%%\n"
    }
   }
  },
  {
   "cell_type": "code",
   "execution_count": 13,
   "outputs": [
    {
     "data": {
      "text/plain": "161"
     },
     "execution_count": 13,
     "metadata": {},
     "output_type": "execute_result"
    }
   ],
   "source": [
    "getPrefixLength((torch.from_numpy(data_list[0][\"x_test_seq\"])), 10)"
   ],
   "metadata": {
    "collapsed": false,
    "pycharm": {
     "name": "#%%\n"
    }
   }
  },
  {
   "cell_type": "code",
   "execution_count": 21,
   "outputs": [
    {
     "name": "stdout",
     "output_type": "stream",
     "text": [
      "183\n",
      "129\n",
      "except\n",
      "257\n",
      "except\n",
      "4\n",
      "145\n",
      "except\n",
      "21\n",
      "161\n",
      "except\n",
      "34\n",
      "except\n",
      "38\n",
      "177\n",
      "except\n",
      "50\n",
      "except\n",
      "51\n",
      "except\n",
      "49\n",
      "except\n",
      "55\n",
      "193\n",
      "except\n",
      "65\n",
      "66\n",
      "except\n",
      "72\n",
      "except\n",
      "209\n",
      "except\n",
      "82\n",
      "except\n",
      "81\n",
      "225\n",
      "except\n",
      "98\n",
      "except\n",
      "97\n",
      "113\n",
      "241\n",
      "except\n",
      "114\n",
      "except\n",
      "194\n",
      "129\n",
      "except\n",
      "4\n",
      "145\n",
      "except\n",
      "21\n",
      "33\n",
      "except\n",
      "161\n",
      "except\n",
      "38\n",
      "49\n",
      "except\n",
      "177\n",
      "except\n",
      "50\n",
      "55\n",
      "except\n",
      "65\n",
      "except\n",
      "66\n",
      "193\n",
      "except\n",
      "67\n",
      "except\n",
      "72\n",
      "except\n",
      "81\n",
      "82\n",
      "except\n",
      "209\n",
      "except\n",
      "83\n",
      "except\n",
      "97\n",
      "except\n",
      "225\n",
      "except\n",
      "98\n",
      "except\n",
      "113\n",
      "except\n",
      "241\n",
      "except\n",
      "185\n",
      "129\n",
      "except\n",
      "257\n",
      "except\n",
      "4\n",
      "except\n",
      "145\n",
      "except\n",
      "273\n",
      "except\n",
      "17\n",
      "except\n",
      "21\n",
      "except\n",
      "161\n",
      "except\n",
      "289\n",
      "except\n",
      "35\n",
      "except\n",
      "33\n",
      "except\n",
      "34\n",
      "except\n",
      "38\n",
      "except\n",
      "177\n",
      "except\n",
      "50\n",
      "except\n",
      "51\n",
      "except\n",
      "49\n",
      "except\n",
      "305\n",
      "except\n",
      "55\n",
      "except\n",
      "65\n",
      "except\n",
      "193\n",
      "except\n",
      "66\n",
      "except\n",
      "321\n",
      "except\n",
      "72\n",
      "except\n",
      "81\n",
      "except\n",
      "209\n",
      "except\n",
      "82\n",
      "except\n",
      "337\n",
      "except\n",
      "97\n",
      "except\n",
      "225\n",
      "except\n",
      "98\n",
      "except\n",
      "113\n",
      "except\n",
      "241\n",
      "except\n",
      "197\n",
      "129\n",
      "257\n",
      "except\n",
      "4\n",
      "145\n",
      "except\n",
      "273\n",
      "except\n",
      "21\n",
      "161\n",
      "except\n",
      "289\n",
      "except\n",
      "38\n",
      "49\n",
      "50\n",
      "except\n",
      "177\n",
      "except\n",
      "51\n",
      "except\n",
      "305\n",
      "except\n",
      "55\n",
      "except\n",
      "56\n",
      "except\n",
      "65\n",
      "193\n",
      "except\n",
      "67\n",
      "except\n",
      "321\n",
      "except\n",
      "71\n",
      "except\n",
      "72\n",
      "except\n",
      "81\n",
      "209\n",
      "except\n",
      "83\n",
      "except\n",
      "82\n",
      "except\n",
      "337\n",
      "except\n",
      "97\n",
      "98\n",
      "except\n",
      "225\n",
      "except\n",
      "353\n",
      "except\n",
      "113\n",
      "241\n",
      "except\n",
      "369\n",
      "except\n",
      "191\n",
      "129\n",
      "except\n",
      "257\n",
      "except\n",
      "4\n",
      "145\n",
      "except\n",
      "17\n",
      "except\n",
      "273\n",
      "except\n",
      "21\n",
      "22\n",
      "except\n",
      "161\n",
      "except\n",
      "33\n",
      "except\n",
      "289\n",
      "except\n",
      "34\n",
      "except\n",
      "38\n",
      "40\n",
      "except\n",
      "49\n",
      "50\n",
      "except\n",
      "177\n",
      "except\n",
      "51\n",
      "except\n",
      "53\n",
      "except\n",
      "305\n",
      "except\n",
      "55\n",
      "except\n",
      "56\n",
      "except\n",
      "65\n",
      "193\n",
      "except\n",
      "66\n",
      "except\n",
      "321\n",
      "except\n",
      "72\n",
      "except\n",
      "81\n",
      "82\n",
      "except\n",
      "209\n",
      "except\n",
      "97\n",
      "except\n",
      "98\n",
      "except\n",
      "225\n",
      "except\n",
      "113\n",
      "except\n",
      "241\n",
      "except\n"
     ]
    }
   ],
   "source": [
    "result = []\n",
    "\n",
    "for model, dataset in zip(model_list,data_list):\n",
    "    values = {\"model\" : dataset[\"fold\"], \"data\" : []}\n",
    "\n",
    "    seq = torch.from_numpy(dataset[\"x_test_seq\"])\n",
    "    stat = torch.from_numpy(dataset[\"x_test_stat\"])\n",
    "    label = torch.from_numpy(dataset[\"label\"])\n",
    "\n",
    "    prefixLengthDictList = getPrefixDictionary(seq)\n",
    "\n",
    "    for prefixLengthDict in prefixLengthDictList:\n",
    "        performancePrefixDict = {\"PrefixLength\" : prefixLengthDict[\"prefixSize\"]}\n",
    "\n",
    "        prefixSeq = seq[prefixLengthDict[\"indizes\"],:,:]\n",
    "        prefixStat = stat[prefixLengthDict[\"indizes\"],:]\n",
    "        prefixLabel = label[prefixLengthDict[\"indizes\"]]\n",
    "\n",
    "        model.eval()\n",
    "        with torch.no_grad():\n",
    "\n",
    "            prediction = torch.sigmoid(model.forward(prefixSeq, prefixStat))\n",
    "            prediction = [map_value([0][0]) for pred in prediction]\n",
    "            #print((prediction))\n",
    "            #print((prefixLabel))\n",
    "\n",
    "            performancePrefixDict[\"AUC\"] = calc_roc_auc(prefixLabel, prediction)\n",
    "\n",
    "            #rocauc = metrics.roc_auc_score(prefixLabel, prediction)\n",
    "            #print(rocauc)\n",
    "            #performancePrefixDict[\"AUC\"] = rocauc\n",
    "\n",
    "            values[\"data\"].append(performancePrefixDict)\n",
    "\n",
    "    result.append(values)\n"
   ],
   "metadata": {
    "collapsed": false,
    "pycharm": {
     "name": "#%%\n"
    }
   }
  },
  {
   "cell_type": "code",
   "execution_count": 32,
   "outputs": [
    {
     "name": "stdout",
     "output_type": "stream",
     "text": [
      "   PrefixLength  AUC\n",
      "2             4  0.5\n",
      "4            21  0.5\n",
      "6            34    0\n",
      "7            38  0.5\n",
      "11           49    0\n",
      "9            50    0\n",
      "10           51    0\n",
      "12           55  0.5\n",
      "14           65  0.5\n",
      "15           66    0\n",
      "16           72    0\n",
      "19           81  0.5\n",
      "18           82    0\n",
      "22           97  0.5\n",
      "21           98    0\n",
      "23          113  0.5\n",
      "0           129    0\n",
      "3           145    0\n",
      "5           161    0\n",
      "8           177    0\n",
      "13          193    0\n",
      "17          209    0\n",
      "20          225    0\n",
      "24          241    0\n",
      "1           257    0\n",
      "   PrefixLength  AUC\n",
      "1             4  0.5\n",
      "3            21  0.5\n",
      "4            33    0\n",
      "6            38  0.5\n",
      "7            49    0\n",
      "9            50  0.5\n",
      "10           55    0\n",
      "11           65    0\n",
      "12           66  0.5\n",
      "14           67    0\n",
      "15           72    0\n",
      "16           81  0.5\n",
      "17           82    0\n",
      "19           83    0\n",
      "20           97    0\n",
      "22           98    0\n",
      "23          113    0\n",
      "0           129    0\n",
      "2           145    0\n",
      "5           161    0\n",
      "8           177    0\n",
      "13          193    0\n",
      "18          209    0\n",
      "21          225    0\n",
      "   PrefixLength AUC\n",
      "2             4   0\n",
      "5            17   0\n",
      "6            21   0\n",
      "10           33   0\n",
      "11           34   0\n",
      "9            35   0\n",
      "12           38   0\n",
      "16           49   0\n",
      "14           50   0\n",
      "15           51   0\n",
      "18           55   0\n",
      "19           65   0\n",
      "21           66   0\n",
      "23           72   0\n",
      "24           81   0\n",
      "26           82   0\n",
      "28           97   0\n",
      "30           98   0\n",
      "31          113   0\n",
      "0           129   0\n",
      "3           145   0\n",
      "7           161   0\n",
      "13          177   0\n",
      "20          193   0\n",
      "25          209   0\n",
      "29          225   0\n",
      "1           257   0\n",
      "4           273   0\n",
      "8           289   0\n",
      "17          305   0\n",
      "22          321   0\n",
      "27          337   0\n",
      "    PrefixLength  AUC\n",
      "2            4.0  0.5\n",
      "5           21.0  0.5\n",
      "8           38.0  0.5\n",
      "9           49.0  0.5\n",
      "10          50.0  0.0\n",
      "12          51.0  0.0\n",
      "14          55.0  0.0\n",
      "15          56.0  0.0\n",
      "16          65.0  0.5\n",
      "18          67.0  0.0\n",
      "20          71.0  0.0\n",
      "21          72.0  0.0\n",
      "22          81.0  0.5\n",
      "25          82.0  0.0\n",
      "24          83.0  0.0\n",
      "27          97.0  0.5\n",
      "28          98.0  0.0\n",
      "31         113.0  0.5\n",
      "0          129.0  0.5\n",
      "3          145.0  0.0\n",
      "6          161.0  0.0\n",
      "11         177.0  0.0\n",
      "17         193.0  0.0\n",
      "23         209.0  0.0\n",
      "29         225.0  0.0\n",
      "32         241.0  0.0\n",
      "1          257.0  0.0\n",
      "4          273.0  0.0\n",
      "7          289.0  0.0\n",
      "13         305.0  0.0\n",
      "19         321.0  0.0\n",
      "26         337.0  0.0\n",
      "30         353.0  0.0\n",
      "   PrefixLength  AUC\n",
      "2             4  0.5\n",
      "4            17    0\n",
      "6            21  0.5\n",
      "7            22    0\n",
      "9            33    0\n",
      "11           34    0\n",
      "12           38  0.5\n",
      "13           40    0\n",
      "14           49  0.5\n",
      "15           50    0\n",
      "17           51    0\n",
      "18           53    0\n",
      "20           55    0\n",
      "21           56    0\n",
      "22           65  0.5\n",
      "24           66    0\n",
      "26           72    0\n",
      "27           81  0.5\n",
      "28           82    0\n",
      "30           97    0\n",
      "31           98    0\n",
      "33          113    0\n",
      "0           129    0\n",
      "3           145    0\n",
      "8           161    0\n",
      "16          177    0\n",
      "23          193    0\n",
      "29          209    0\n",
      "32          225    0\n",
      "1           257    0\n",
      "5           273    0\n",
      "10          289    0\n",
      "19          305    0\n",
      "25          321    0\n"
     ]
    },
    {
     "data": {
      "text/plain": "<Figure size 640x480 with 1 Axes>",
      "image/png": "[encoded data removed]"
     },
     "metadata": {},
     "output_type": "display_data"
    },
    {
     "data": {
      "text/plain": "<Figure size 640x480 with 1 Axes>",
      "image/png": "[encoded data removed]"
     },
     "metadata": {},
     "output_type": "display_data"
    },
    {
     "data": {
      "text/plain": "<Figure size 640x480 with 1 Axes>",
      "image/png": "[encoded data removed]"
     },
     "metadata": {},
     "output_type": "display_data"
    },
    {
     "data": {
      "text/plain": "<Figure size 640x480 with 1 Axes>",
      "image/png": "[encoded data removed]"
     },
     "metadata": {},
     "output_type": "display_data"
    },
    {
     "data": {
      "text/plain": "<Figure size 640x480 with 1 Axes>",
      "image/png": "[encoded data removed]"
     },
     "metadata": {},
     "output_type": "display_data"
    }
   ],
   "source": [
    "\n",
    "for values in result:\n",
    "\n",
    "    data = values[\"data\"]\n",
    "    df = pd.DataFrame(columns= [\"PrefixLength\", \"AUC\"])\n",
    "    for i in range(0,len(data) -1):\n",
    "        x = (data[i][\"PrefixLength\"])\n",
    "        y = (data[i][\"AUC\"])\n",
    "        df.loc[i] = (x,y)\n",
    "        #print(data[i][\"PrefixLength\"])\n",
    "\n",
    "\n",
    "    #plt.plot(x, y, label = values[\"model\"])\n",
    "    df = df.sort_values(by=[\"PrefixLength\"])\n",
    "    df.plot(x = \"PrefixLength\", y = \"AUC\")\n",
    "    print(df)\n",
    "plt.legend()\n",
    "plt.show()"
   ],
   "metadata": {
    "collapsed": false,
    "pycharm": {
     "name": "#%%\n"
    }
   }
  }
 ],
 "metadata": {
  "kernelspec": {
   "display_name": "Python 3",
   "language": "python",
   "name": "python3"
  },
  "language_info": {
   "codemirror_mode": {
    "name": "ipython",
    "version": 2
   },
   "file_extension": ".py",
   "mimetype": "text/x-python",
   "name": "python",
   "nbconvert_exporter": "python",
   "pygments_lexer": "ipython2",
   "version": "2.7.6"
  }
 },
 "nbformat": 4,
 "nbformat_minor": 0
}
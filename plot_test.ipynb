{
 "cells": [
  {
   "cell_type": "markdown",
   "source": [
    "<h2>Importe</h2>"
   ],
   "metadata": {
    "collapsed": false,
    "pycharm": {
     "name": "#%% md\n"
    }
   }
  },
  {
   "cell_type": "code",
   "execution_count": 5,
   "outputs": [],
   "source": [
    "import pickle\n",
    "\n",
    "import numpy\n",
    "import pandas as pd\n",
    "import numpy as np\n",
    "import os\n",
    "import src.data as data\n",
    "import torch\n",
    "import os\n",
    "from sklearn import metrics\n",
    "import matplotlib.pyplot as plt\n",
    "import math\n"
   ],
   "metadata": {
    "collapsed": false,
    "pycharm": {
     "name": "#%%\n"
    }
   }
  },
  {
   "cell_type": "markdown",
   "source": [
    "<h2>Methoden</h2>"
   ],
   "metadata": {
    "collapsed": false,
    "pycharm": {
     "name": "#%% md\n"
    }
   }
  },
  {
   "cell_type": "code",
   "execution_count": 6,
   "outputs": [],
   "source": [
    "#Straight up stolen from main.py\n",
    "def calc_roc_auc(gts, probs):\n",
    "    try:\n",
    "        auc = metrics.roc_auc_score(gts, probs)\n",
    "        if np.isnan(auc):\n",
    "            auc = 0\n",
    "        return auc\n",
    "    except:\n",
    "        print(\"except\")\n",
    "        return 0\n"
   ],
   "metadata": {
    "collapsed": false,
    "pycharm": {
     "name": "#%%\n"
    }
   }
  },
  {
   "cell_type": "code",
   "execution_count": 7,
   "outputs": [],
   "source": [
    "def map_value(value):\n",
    "    if value >= 0.5:\n",
    "        return 1\n",
    "    else:\n",
    "        return 0"
   ],
   "metadata": {
    "collapsed": false,
    "pycharm": {
     "name": "#%%\n"
    }
   }
  },
  {
   "cell_type": "markdown",
   "source": [
    "<h2>Laden der gespeicherten Daten und der Modelle</h2>"
   ],
   "metadata": {
    "collapsed": false,
    "pycharm": {
     "name": "#%% md\n"
    }
   }
  },
  {
   "cell_type": "code",
   "execution_count": 8,
   "outputs": [],
   "source": [
    "data_list = []\n",
    "with open(r\"C:\\Users\\ReneJ\\Desktop\\UnityStuff\\patway-net\\data_plot\\test_data\", \"rb\") as input:\n",
    "    while True:\n",
    "        try:\n",
    "            x = pickle.load(input)\n",
    "        except EOFError:\n",
    "            break\n",
    "        data_list.append(x)\n",
    "\n"
   ],
   "metadata": {
    "collapsed": false,
    "pycharm": {
     "name": "#%%\n"
    }
   }
  },
  {
   "cell_type": "code",
   "execution_count": 5,
   "outputs": [
    {
     "data": {
      "text/plain": "5"
     },
     "execution_count": 5,
     "metadata": {},
     "output_type": "execute_result"
    }
   ],
   "source": [
    "len(data_list)"
   ],
   "metadata": {
    "collapsed": false,
    "pycharm": {
     "name": "#%%\n"
    }
   }
  },
  {
   "cell_type": "code",
   "execution_count": 10,
   "outputs": [],
   "source": [
    "model_list = []\n",
    "dir = r\"C:\\Users\\ReneJ\\Desktop\\UnityStuff\\patway-net\\model\"\n",
    "for file in os.listdir(dir):\n",
    "    filename = os.fsdecode(file)\n",
    "    if \"_15\" in filename:\n",
    "        model_list.append(torch.load(dir + \"\\\\\" + file))\n"
   ],
   "metadata": {
    "collapsed": false,
    "pycharm": {
     "name": "#%%\n"
    }
   }
  },
  {
   "cell_type": "code",
   "execution_count": 11,
   "outputs": [
    {
     "data": {
      "text/plain": "src.interpret_LSTM.Net"
     },
     "execution_count": 11,
     "metadata": {},
     "output_type": "execute_result"
    }
   ],
   "source": [
    "type(model_list[0])"
   ],
   "metadata": {
    "collapsed": false,
    "pycharm": {
     "name": "#%%\n"
    }
   }
  },
  {
   "cell_type": "code",
   "execution_count": 12,
   "outputs": [],
   "source": [
    "lowest_len = math.inf\n",
    "for ds in data_list:\n",
    "    if len(ds[\"x_test_seq\"]) < lowest_len:\n",
    "        lowest_len = len(ds[\"x_test_seq\"])\n"
   ],
   "metadata": {
    "collapsed": false,
    "pycharm": {
     "name": "#%%\n"
    }
   }
  },
  {
   "cell_type": "code",
   "execution_count": 9,
   "outputs": [
    {
     "data": {
      "text/plain": "183"
     },
     "execution_count": 9,
     "metadata": {},
     "output_type": "execute_result"
    }
   ],
   "source": [
    "lowest_len"
   ],
   "metadata": {
    "collapsed": false,
    "pycharm": {
     "name": "#%%\n"
    }
   }
  },
  {
   "cell_type": "code",
   "execution_count": 10,
   "outputs": [
    {
     "data": {
      "text/plain": "array([[[0., 0., 0., ..., 0., 0., 0.],\n        [0., 0., 0., ..., 0., 0., 0.],\n        [0., 0., 0., ..., 0., 0., 0.],\n        ...,\n        [0., 0., 0., ..., 0., 0., 0.],\n        [0., 0., 0., ..., 0., 0., 0.],\n        [0., 0., 0., ..., 0., 0., 0.]],\n\n       [[0., 0., 0., ..., 0., 0., 0.],\n        [0., 0., 0., ..., 0., 0., 0.],\n        [0., 0., 0., ..., 0., 0., 0.],\n        ...,\n        [0., 0., 0., ..., 0., 0., 0.],\n        [0., 0., 0., ..., 0., 0., 0.],\n        [0., 0., 0., ..., 0., 0., 0.]],\n\n       [[0., 0., 0., ..., 0., 0., 0.],\n        [0., 0., 0., ..., 0., 0., 0.],\n        [0., 0., 0., ..., 0., 0., 0.],\n        ...,\n        [0., 0., 0., ..., 0., 0., 0.],\n        [0., 0., 0., ..., 0., 0., 0.],\n        [0., 0., 0., ..., 0., 0., 0.]],\n\n       [[0., 0., 0., ..., 0., 0., 0.],\n        [0., 0., 0., ..., 0., 0., 0.],\n        [0., 0., 0., ..., 0., 0., 0.],\n        ...,\n        [0., 0., 0., ..., 0., 0., 0.],\n        [0., 0., 0., ..., 0., 0., 0.],\n        [0., 0., 0., ..., 0., 0., 0.]],\n\n       [[0., 0., 0., ..., 0., 0., 0.],\n        [0., 0., 0., ..., 0., 0., 0.],\n        [0., 0., 0., ..., 0., 0., 0.],\n        ...,\n        [0., 0., 0., ..., 0., 0., 0.],\n        [0., 0., 0., ..., 0., 0., 0.],\n        [0., 0., 0., ..., 0., 0., 0.]]], dtype=float32)"
     },
     "execution_count": 10,
     "metadata": {},
     "output_type": "execute_result"
    }
   ],
   "source": [
    "(data_list[0][\"x_test_seq\"][5:10])"
   ],
   "metadata": {
    "collapsed": false,
    "pycharm": {
     "name": "#%%\n"
    }
   }
  },
  {
   "cell_type": "code",
   "execution_count": 13,
   "outputs": [],
   "source": [
    "def getPrefixLength(seq, sample):\n",
    "    counter = 0\n",
    "    rowCounter = -1\n",
    "    lastRow = None\n",
    "    actualPrefixRows = 0\n",
    "    for matrix in seq[sample,:,:]:\n",
    "        #print(matrix)\n",
    "        rowCounter += 1\n",
    "\n",
    "        notZero = False\n",
    "\n",
    "        for x in matrix:\n",
    "            x = float(x)\n",
    "            if x != 0:\n",
    "                notZero = True\n",
    "                break\n",
    "\n",
    "        if notZero:\n",
    "            lastRow = matrix\n",
    "            actualPrefixRows = rowCounter\n",
    "\n",
    "    if lastRow != None:\n",
    "        for entry in lastRow:\n",
    "            if entry == 0:\n",
    "                counter += 1\n",
    "\n",
    "            if entry != 0:\n",
    "                counter += 1\n",
    "                break\n",
    "\n",
    "    #print(actualPrefixRows)\n",
    "    #print(counter)\n",
    "    #print(rowCounter)\n",
    "    #print(lastRow)\n",
    "\n",
    "    #return counter + (actualPrefixRows * len(lastRow))  #Every Value counts into the prefix size\n",
    "    return actualPrefixRows +1 #Every Row counts into the prefix size"
   ],
   "metadata": {
    "collapsed": false,
    "pycharm": {
     "name": "#%%\n"
    }
   }
  },
  {
   "cell_type": "code",
   "execution_count": 7,
   "outputs": [
    {
     "data": {
      "text/plain": "tensor([[0., 0., 0., 1., 0., 0., 0., 0., 0., 0., 0., 0., 0., 0., 0., 0.],\n        [0., 0., 0., 0., 0., 0., 0., 0., 0., 0., 0., 0., 0., 0., 0., 0.],\n        [0., 0., 0., 0., 0., 0., 0., 0., 0., 0., 0., 0., 0., 0., 0., 0.],\n        [0., 0., 0., 0., 0., 0., 0., 0., 0., 0., 0., 0., 0., 0., 0., 0.],\n        [0., 0., 0., 0., 0., 0., 0., 0., 0., 0., 0., 0., 0., 0., 0., 0.],\n        [0., 0., 0., 0., 0., 0., 0., 0., 0., 0., 0., 0., 0., 0., 0., 0.],\n        [0., 0., 0., 0., 0., 0., 0., 0., 0., 0., 0., 0., 0., 0., 0., 0.],\n        [0., 0., 0., 0., 0., 0., 0., 0., 0., 0., 0., 0., 0., 0., 0., 0.],\n        [0., 0., 0., 0., 0., 0., 0., 0., 0., 0., 0., 0., 0., 0., 0., 0.],\n        [0., 0., 0., 0., 0., 0., 0., 0., 0., 0., 0., 0., 0., 0., 0., 0.],\n        [0., 0., 0., 0., 0., 0., 0., 0., 0., 0., 0., 0., 0., 0., 0., 0.],\n        [0., 0., 0., 0., 0., 0., 0., 0., 0., 0., 0., 0., 0., 0., 0., 0.],\n        [0., 0., 0., 0., 0., 0., 0., 0., 0., 0., 0., 0., 0., 0., 0., 0.],\n        [0., 0., 0., 0., 0., 0., 0., 0., 0., 0., 0., 0., 0., 0., 0., 0.],\n        [0., 0., 0., 0., 0., 0., 0., 0., 0., 0., 0., 0., 0., 0., 0., 0.],\n        [0., 0., 0., 0., 0., 0., 0., 0., 0., 0., 0., 0., 0., 0., 0., 0.],\n        [0., 0., 0., 0., 0., 0., 0., 0., 0., 0., 0., 0., 0., 0., 0., 0.],\n        [0., 0., 0., 0., 0., 0., 0., 0., 0., 0., 0., 0., 0., 0., 0., 0.],\n        [0., 0., 0., 0., 0., 0., 0., 0., 0., 0., 0., 0., 0., 0., 0., 0.],\n        [0., 0., 0., 0., 0., 0., 0., 0., 0., 0., 0., 0., 0., 0., 0., 0.],\n        [0., 0., 0., 0., 0., 0., 0., 0., 0., 0., 0., 0., 0., 0., 0., 0.],\n        [0., 0., 0., 0., 0., 0., 0., 0., 0., 0., 0., 0., 0., 0., 0., 0.],\n        [0., 0., 0., 0., 0., 0., 0., 0., 0., 0., 0., 0., 0., 0., 0., 0.],\n        [0., 0., 0., 0., 0., 0., 0., 0., 0., 0., 0., 0., 0., 0., 0., 0.],\n        [0., 0., 0., 0., 0., 0., 0., 0., 0., 0., 0., 0., 0., 0., 0., 0.],\n        [0., 0., 0., 0., 0., 0., 0., 0., 0., 0., 0., 0., 0., 0., 0., 0.],\n        [0., 0., 0., 0., 0., 0., 0., 0., 0., 0., 0., 0., 0., 0., 0., 0.],\n        [0., 0., 0., 0., 0., 0., 0., 0., 0., 0., 0., 0., 0., 0., 0., 0.],\n        [0., 0., 0., 0., 0., 0., 0., 0., 0., 0., 0., 0., 0., 0., 0., 0.],\n        [0., 0., 0., 0., 0., 0., 0., 0., 0., 0., 0., 0., 0., 0., 0., 0.],\n        [0., 0., 0., 0., 0., 0., 0., 0., 0., 0., 0., 0., 0., 0., 0., 0.],\n        [0., 0., 0., 0., 0., 0., 0., 0., 0., 0., 0., 0., 0., 0., 0., 0.],\n        [0., 0., 0., 0., 0., 0., 0., 0., 0., 0., 0., 0., 0., 0., 0., 0.],\n        [0., 0., 0., 0., 0., 0., 0., 0., 0., 0., 0., 0., 0., 0., 0., 0.],\n        [0., 0., 0., 0., 0., 0., 0., 0., 0., 0., 0., 0., 0., 0., 0., 0.],\n        [0., 0., 0., 0., 0., 0., 0., 0., 0., 0., 0., 0., 0., 0., 0., 0.],\n        [0., 0., 0., 0., 0., 0., 0., 0., 0., 0., 0., 0., 0., 0., 0., 0.],\n        [0., 0., 0., 0., 0., 0., 0., 0., 0., 0., 0., 0., 0., 0., 0., 0.],\n        [0., 0., 0., 0., 0., 0., 0., 0., 0., 0., 0., 0., 0., 0., 0., 0.],\n        [0., 0., 0., 0., 0., 0., 0., 0., 0., 0., 0., 0., 0., 0., 0., 0.],\n        [0., 0., 0., 0., 0., 0., 0., 0., 0., 0., 0., 0., 0., 0., 0., 0.],\n        [0., 0., 0., 0., 0., 0., 0., 0., 0., 0., 0., 0., 0., 0., 0., 0.],\n        [0., 0., 0., 0., 0., 0., 0., 0., 0., 0., 0., 0., 0., 0., 0., 0.],\n        [0., 0., 0., 0., 0., 0., 0., 0., 0., 0., 0., 0., 0., 0., 0., 0.],\n        [0., 0., 0., 0., 0., 0., 0., 0., 0., 0., 0., 0., 0., 0., 0., 0.],\n        [0., 0., 0., 0., 0., 0., 0., 0., 0., 0., 0., 0., 0., 0., 0., 0.],\n        [0., 0., 0., 0., 0., 0., 0., 0., 0., 0., 0., 0., 0., 0., 0., 0.],\n        [0., 0., 0., 0., 0., 0., 0., 0., 0., 0., 0., 0., 0., 0., 0., 0.],\n        [0., 0., 0., 0., 0., 0., 0., 0., 0., 0., 0., 0., 0., 0., 0., 0.],\n        [0., 0., 0., 0., 0., 0., 0., 0., 0., 0., 0., 0., 0., 0., 0., 0.]])"
     },
     "execution_count": 7,
     "metadata": {},
     "output_type": "execute_result"
    }
   ],
   "source": [
    "getPrefixLength((torch.from_numpy(data_list[0][\"x_test_seq\"])), 0)\n",
    "torch.from_numpy(data_list[0][\"x_test_seq\"])[0,:,:]\n",
    "#torch.from_numpy(data_list[0][\"x_test_seq\"])[0]"
   ],
   "metadata": {
    "collapsed": false,
    "pycharm": {
     "name": "#%%\n"
    }
   }
  },
  {
   "cell_type": "code",
   "execution_count": 14,
   "outputs": [],
   "source": [
    "def getPrefixDictionary(seq):\n",
    "    samples = seq.shape[0]\n",
    "    print(samples)\n",
    "\n",
    "    mapList = []\n",
    "    uniquePrefixSizes = []\n",
    "    for t in range(0, samples):\n",
    "        indexPrefixSizeMap = {\"index\" : t, \"prefixSize\" : getPrefixLength(seq, t)}\n",
    "        #print(\"sample \" + str(t) + \": \" + str(getPrefixLength(seq, t)))\n",
    "        mapList.append(indexPrefixSizeMap)\n",
    "        uniquePrefixSizes.append(getPrefixLength(seq, t))\n",
    "\n",
    "    uniquePrefixSizes = set(uniquePrefixSizes)\n",
    "    #print(uniquePrefixSizes)\n",
    "\n",
    "    prefixDictionaryList = []\n",
    "\n",
    "    for prefixSize in uniquePrefixSizes:\n",
    "        prefixDictionary = {}\n",
    "        prefixDictionary[\"prefixSize\"] = prefixSize\n",
    "        prefixDictionary[\"indizes\"] = []\n",
    "        for entry in mapList:\n",
    "            if entry[\"prefixSize\"] == prefixSize:\n",
    "                prefixDictionary[\"indizes\"].append(entry[\"index\"])\n",
    "        prefixDictionaryList.append(prefixDictionary)\n",
    "\n",
    "    #print(prefixDictionary)\n",
    "    return prefixDictionaryList\n"
   ],
   "metadata": {
    "collapsed": false,
    "pycharm": {
     "name": "#%%\n"
    }
   }
  },
  {
   "cell_type": "code",
   "execution_count": 15,
   "outputs": [
    {
     "name": "stdout",
     "output_type": "stream",
     "text": [
      "183\n",
      "[{'prefixSize': 1, 'indizes': [0, 16, 33, 44, 47, 62, 72, 80, 88, 94, 106, 114, 125, 133, 136, 151, 156, 169]}, {'prefixSize': 2, 'indizes': [1, 17, 34, 45, 48, 63, 73, 81, 89, 95, 107, 115, 126, 134, 137, 152, 157, 170]}, {'prefixSize': 3, 'indizes': [2, 18, 35, 46, 49, 64, 74, 82, 90, 96, 108, 116, 127, 135, 138, 153, 158, 171]}, {'prefixSize': 4, 'indizes': [3, 19, 36, 50, 65, 75, 83, 91, 97, 109, 117, 128, 139, 154, 159, 172]}, {'prefixSize': 5, 'indizes': [4, 20, 37, 51, 66, 76, 84, 85, 92, 98, 110, 118, 129, 140, 155, 160, 173]}, {'prefixSize': 6, 'indizes': [5, 21, 38, 52, 67, 77, 93, 99, 111, 119, 130, 141, 161, 174]}, {'prefixSize': 7, 'indizes': [6, 22, 39, 53, 68, 78, 86, 100, 112, 120, 131, 142, 162, 175]}, {'prefixSize': 8, 'indizes': [7, 23, 40, 54, 69, 79, 87, 101, 113, 121, 132, 143, 163, 176]}, {'prefixSize': 9, 'indizes': [8, 24, 41, 55, 70, 102, 122, 144, 164, 177]}, {'prefixSize': 10, 'indizes': [9, 25, 42, 56, 71, 103, 123, 145, 165, 178]}, {'prefixSize': 11, 'indizes': [10, 26, 43, 57, 104, 124, 146, 166, 179]}, {'prefixSize': 12, 'indizes': [11, 27, 58, 105, 147, 167, 180]}, {'prefixSize': 13, 'indizes': [12, 28, 59, 148, 168, 181]}, {'prefixSize': 14, 'indizes': [13, 29, 60, 149, 182]}, {'prefixSize': 15, 'indizes': [14, 30, 61, 150]}, {'prefixSize': 16, 'indizes': [15, 31]}, {'prefixSize': 17, 'indizes': [32]}]\n"
     ]
    }
   ],
   "source": [
    "print(getPrefixDictionary((torch.from_numpy(data_list[0][\"x_test_seq\"]))))"
   ],
   "metadata": {
    "collapsed": false,
    "pycharm": {
     "name": "#%%\n"
    }
   }
  },
  {
   "cell_type": "code",
   "execution_count": 16,
   "outputs": [
    {
     "data": {
      "text/plain": "11"
     },
     "execution_count": 16,
     "metadata": {},
     "output_type": "execute_result"
    }
   ],
   "source": [
    "getPrefixLength((torch.from_numpy(data_list[0][\"x_test_seq\"])), 10)"
   ],
   "metadata": {
    "collapsed": false,
    "pycharm": {
     "name": "#%%\n"
    }
   }
  },
  {
   "cell_type": "code",
   "execution_count": 15,
   "outputs": [
    {
     "name": "stdout",
     "output_type": "stream",
     "text": [
      "183\n",
      "except\n",
      "except\n",
      "except\n",
      "except\n",
      "except\n",
      "except\n",
      "except\n",
      "except\n",
      "except\n",
      "194\n",
      "except\n",
      "except\n",
      "except\n",
      "except\n",
      "except\n",
      "except\n",
      "except\n",
      "except\n",
      "except\n",
      "except\n",
      "185\n",
      "except\n",
      "except\n",
      "except\n",
      "except\n",
      "except\n",
      "except\n",
      "except\n",
      "except\n",
      "except\n",
      "except\n",
      "except\n",
      "except\n",
      "except\n",
      "except\n",
      "except\n",
      "except\n",
      "except\n",
      "except\n",
      "except\n",
      "except\n",
      "except\n",
      "except\n",
      "197\n",
      "except\n",
      "except\n",
      "except\n",
      "except\n",
      "except\n",
      "except\n",
      "except\n",
      "except\n",
      "except\n",
      "except\n",
      "except\n",
      "except\n",
      "except\n",
      "except\n",
      "except\n",
      "191\n",
      "except\n",
      "except\n",
      "except\n",
      "except\n",
      "except\n",
      "except\n",
      "except\n",
      "except\n",
      "except\n",
      "except\n",
      "except\n",
      "except\n",
      "except\n",
      "except\n",
      "except\n"
     ]
    }
   ],
   "source": [
    "result = []\n",
    "\n",
    "for model, dataset in zip(model_list,data_list):\n",
    "    values = {\"model\" : dataset[\"fold\"], \"data\" : []}\n",
    "\n",
    "    seq = torch.from_numpy(dataset[\"x_test_seq\"])\n",
    "    stat = torch.from_numpy(dataset[\"x_test_stat\"])\n",
    "    label = torch.from_numpy(dataset[\"label\"]).numpy()\n",
    "\n",
    "    prefixLengthDictList = getPrefixDictionary(seq)\n",
    "\n",
    "    for prefixLengthDict in prefixLengthDictList:\n",
    "        performancePrefixDict = {\"PrefixLength\" : prefixLengthDict[\"prefixSize\"]}\n",
    "\n",
    "        prefixSeq = seq[prefixLengthDict[\"indizes\"],:,:]\n",
    "        prefixStat = stat[prefixLengthDict[\"indizes\"],:]\n",
    "        prefixLabel = label[prefixLengthDict[\"indizes\"]]\n",
    "\n",
    "        model.eval()\n",
    "        with torch.no_grad():\n",
    "\n",
    "            prediction = torch.sigmoid(model.forward(prefixSeq, prefixStat))\n",
    "            prediction = prediction.numpy()\n",
    "            #prediction = [prediction[0][0] for pred in prediction]\n",
    "            #prediction = [map_value(pred) for pred in prediction]\n",
    "\n",
    "            #print(len(prediction))\n",
    "            #print(len(prefixLabel))\n",
    "\n",
    "            #if(len(np.unique(prefixLabel)) == 1):\n",
    "                #print(\"except in 3,2,1:\")\n",
    "\n",
    "            performancePrefixDict[\"AUC\"] = calc_roc_auc(prefixLabel, prediction)\n",
    "            #print(len(set(prefixLabel) - set(prediction)))\n",
    "\n",
    "            #rocauc = metrics.roc_auc_score(prefixLabel, prediction)\n",
    "            #print(rocauc)\n",
    "            #performancePrefixDict[\"AUC\"] = rocauc\n",
    "\n",
    "            values[\"data\"].append(performancePrefixDict)\n",
    "\n",
    "    result.append(values)\n"
   ],
   "metadata": {
    "collapsed": false,
    "pycharm": {
     "name": "#%%\n"
    }
   }
  },
  {
   "cell_type": "code",
   "execution_count": 69,
   "outputs": [
    {
     "name": "stdout",
     "output_type": "stream",
     "text": [
      "23\n"
     ]
    },
    {
     "data": {
      "text/plain": "<Figure size 640x480 with 1 Axes>",
      "image/png": "[encoded data removed]"
     },
     "metadata": {},
     "output_type": "display_data"
    }
   ],
   "source": [
    "colors = [\"blue\", \"red\", \"green\", \"orange\", \"violet\"]\n",
    "fig = plt.figure()\n",
    "avg_y = []\n",
    "avg_x = []\n",
    "for values, c in zip(result, colors):\n",
    "\n",
    "    data = values[\"data\"]\n",
    "    df = pd.DataFrame(columns= [\"PrefixLength\", \"AUC\"])\n",
    "    for i in range(0,len(data) -1):\n",
    "        x = (data[i][\"PrefixLength\"])\n",
    "        y = (data[i][\"AUC\"])\n",
    "        df.loc[i] = (x,y)\n",
    "\n",
    "    df = df.sort_values(by=[\"PrefixLength\"])\n",
    "    #plt.plot(df[\"PrefixLength\"], df[\"AUC\"], color = c, label = \"Fold\" + str(values[\"model\"] + 1), marker = \"o\")\n",
    "\n",
    "    avg_y.append(df[\"AUC\"])\n",
    "\n",
    "    if len(df[\"PrefixLength\"]) > len(avg_x):\n",
    "        avg_x = df[\"PrefixLength\"]\n",
    "\n",
    "\n",
    "\n",
    "avg_y = sum(avg_y) /5\n",
    "avg_y = avg_y.fillna(0)\n",
    "print(len(avg_y))\n",
    "\n",
    "confiI = 0.05 * np.std(avg_y) / np.mean(avg_y)\n",
    "\n",
    "plt.plot(avg_x, avg_y, color = \"cyan\", label = \"Average\", marker = \"o\")\n",
    "plt.fill_between(avg_x, (avg_y-confiI), (avg_y+confiI), color = \"deepskyblue\", alpha = 0.1)\n",
    "\n",
    "plt.xlabel(\"Prefix Length\")\n",
    "plt.ylabel(\"ROC AUC\")\n",
    "plt.xticks(range(0,25))\n",
    "plt.legend()\n",
    "plt.show()"
   ],
   "metadata": {
    "collapsed": false,
    "pycharm": {
     "name": "#%%\n"
    }
   }
  }
 ],
 "metadata": {
  "kernelspec": {
   "display_name": "Python 3",
   "language": "python",
   "name": "python3"
  },
  "language_info": {
   "codemirror_mode": {
    "name": "ipython",
    "version": 2
   },
   "file_extension": ".py",
   "mimetype": "text/x-python",
   "name": "python",
   "nbconvert_exporter": "python",
   "pygments_lexer": "ipython2",
   "version": "2.7.6"
  }
 },
 "nbformat": 4,
 "nbformat_minor": 0
}
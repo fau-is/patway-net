{
 "cells": [
  {
   "cell_type": "markdown",
   "source": [
    "<h2>Importe</h2>"
   ],
   "metadata": {
    "collapsed": false,
    "pycharm": {
     "name": "#%% md\n"
    }
   }
  },
  {
   "cell_type": "code",
   "execution_count": 2,
   "outputs": [],
   "source": [
    "import pickle\n",
    "\n",
    "import numpy\n",
    "import pandas as pd\n",
    "import numpy as np\n",
    "import os\n",
    "import src.data as data\n",
    "import torch\n",
    "import os\n",
    "from sklearn import metrics\n",
    "import matplotlib.pyplot as plt\n",
    "import math\n"
   ],
   "metadata": {
    "collapsed": false,
    "pycharm": {
     "name": "#%%\n"
    }
   }
  },
  {
   "cell_type": "markdown",
   "source": [
    "<h2>Methoden</h2>"
   ],
   "metadata": {
    "collapsed": false,
    "pycharm": {
     "name": "#%% md\n"
    }
   }
  },
  {
   "cell_type": "code",
   "execution_count": 1,
   "outputs": [],
   "source": [
    "#Straight up stolen from main.py\n",
    "def calc_roc_auc(gts, probs):\n",
    "    try:\n",
    "        auc = metrics.roc_auc_score(gts, probs)\n",
    "        if np.isnan(auc):\n",
    "            auc = 0\n",
    "\n",
    "        return auc\n",
    "    except:\n",
    "        print(\"except\")\n",
    "        return 0\n"
   ],
   "metadata": {
    "collapsed": false,
    "pycharm": {
     "name": "#%%\n"
    }
   }
  },
  {
   "cell_type": "code",
   "execution_count": 3,
   "outputs": [],
   "source": [
    "def map_value(value):\n",
    "    if value >= 0.5:\n",
    "        return 1\n",
    "    else:\n",
    "        return 0"
   ],
   "metadata": {
    "collapsed": false,
    "pycharm": {
     "name": "#%%\n"
    }
   }
  },
  {
   "cell_type": "markdown",
   "source": [
    "<h2>Laden der gespeicherten Daten und der Modelle</h2>"
   ],
   "metadata": {
    "collapsed": false,
    "pycharm": {
     "name": "#%% md\n"
    }
   }
  },
  {
   "cell_type": "code",
   "execution_count": 4,
   "outputs": [],
   "source": [
    "data_list = []\n",
    "with open(r\"C:\\Users\\ReneJ\\Desktop\\UnityStuff\\patway-net\\data_plot\\test_data\", \"rb\") as input:\n",
    "    while True:\n",
    "        try:\n",
    "            x = pickle.load(input)\n",
    "        except EOFError:\n",
    "            break\n",
    "        data_list.append(x)\n",
    "\n"
   ],
   "metadata": {
    "collapsed": false,
    "pycharm": {
     "name": "#%%\n"
    }
   }
  },
  {
   "cell_type": "code",
   "execution_count": 7,
   "outputs": [
    {
     "data": {
      "text/plain": "5"
     },
     "execution_count": 7,
     "metadata": {},
     "output_type": "execute_result"
    }
   ],
   "source": [
    "len(data_list)"
   ],
   "metadata": {
    "collapsed": false,
    "pycharm": {
     "name": "#%%\n"
    }
   }
  },
  {
   "cell_type": "code",
   "execution_count": 5,
   "outputs": [],
   "source": [
    "model_list = []\n",
    "dir = r\"C:\\Users\\ReneJ\\Desktop\\UnityStuff\\patway-net\\model\"\n",
    "for file in os.listdir(dir):\n",
    "    filename = os.fsdecode(file)\n",
    "    if \"_15\" in filename:\n",
    "        model_list.append(torch.load(dir + \"\\\\\" + file))\n"
   ],
   "metadata": {
    "collapsed": false,
    "pycharm": {
     "name": "#%%\n"
    }
   }
  },
  {
   "cell_type": "code",
   "execution_count": 9,
   "outputs": [
    {
     "data": {
      "text/plain": "5"
     },
     "execution_count": 9,
     "metadata": {},
     "output_type": "execute_result"
    }
   ],
   "source": [
    "len(model_list)"
   ],
   "metadata": {
    "collapsed": false,
    "pycharm": {
     "name": "#%%\n"
    }
   }
  },
  {
   "cell_type": "code",
   "execution_count": 6,
   "outputs": [],
   "source": [
    "lowest_len = math.inf\n",
    "for ds in data_list:\n",
    "    if len(ds[\"x_test_seq\"]) < lowest_len:\n",
    "        lowest_len = len(ds[\"x_test_seq\"])\n"
   ],
   "metadata": {
    "collapsed": false,
    "pycharm": {
     "name": "#%%\n"
    }
   }
  },
  {
   "cell_type": "code",
   "execution_count": 11,
   "outputs": [
    {
     "data": {
      "text/plain": "183"
     },
     "execution_count": 11,
     "metadata": {},
     "output_type": "execute_result"
    }
   ],
   "source": [
    "lowest_len"
   ],
   "metadata": {
    "collapsed": false,
    "pycharm": {
     "name": "#%%\n"
    }
   }
  },
  {
   "cell_type": "code",
   "execution_count": 59,
   "outputs": [
    {
     "data": {
      "text/plain": "array([[[0., 0., 0., ..., 0., 0., 0.],\n        [0., 0., 0., ..., 0., 0., 0.],\n        [0., 0., 0., ..., 0., 0., 0.],\n        ...,\n        [0., 0., 0., ..., 0., 0., 0.],\n        [0., 0., 0., ..., 0., 0., 0.],\n        [0., 0., 0., ..., 0., 0., 0.]],\n\n       [[0., 0., 0., ..., 0., 0., 0.],\n        [0., 0., 0., ..., 0., 0., 0.],\n        [0., 0., 0., ..., 0., 0., 0.],\n        ...,\n        [0., 0., 0., ..., 0., 0., 0.],\n        [0., 0., 0., ..., 0., 0., 0.],\n        [0., 0., 0., ..., 0., 0., 0.]],\n\n       [[0., 0., 0., ..., 0., 0., 0.],\n        [0., 0., 0., ..., 0., 0., 0.],\n        [0., 0., 0., ..., 0., 0., 0.],\n        ...,\n        [0., 0., 0., ..., 0., 0., 0.],\n        [0., 0., 0., ..., 0., 0., 0.],\n        [0., 0., 0., ..., 0., 0., 0.]],\n\n       [[0., 0., 0., ..., 0., 0., 0.],\n        [0., 0., 0., ..., 0., 0., 0.],\n        [0., 0., 0., ..., 0., 0., 0.],\n        ...,\n        [0., 0., 0., ..., 0., 0., 0.],\n        [0., 0., 0., ..., 0., 0., 0.],\n        [0., 0., 0., ..., 0., 0., 0.]],\n\n       [[0., 0., 0., ..., 0., 0., 0.],\n        [0., 0., 0., ..., 0., 0., 0.],\n        [0., 0., 0., ..., 0., 0., 0.],\n        ...,\n        [0., 0., 0., ..., 0., 0., 0.],\n        [0., 0., 0., ..., 0., 0., 0.],\n        [0., 0., 0., ..., 0., 0., 0.]]], dtype=float32)"
     },
     "execution_count": 59,
     "metadata": {},
     "output_type": "execute_result"
    }
   ],
   "source": [
    "(data_list[0][\"x_test_seq\"][5:10])"
   ],
   "metadata": {
    "collapsed": false,
    "pycharm": {
     "name": "#%%\n"
    }
   }
  },
  {
   "cell_type": "code",
   "execution_count": null,
   "outputs": [],
   "source": [],
   "metadata": {
    "collapsed": false,
    "pycharm": {
     "name": "#%%\n"
    }
   }
  },
  {
   "cell_type": "code",
   "execution_count": 15,
   "outputs": [
    {
     "name": "stdout",
     "output_type": "stream",
     "text": [
      "0\n"
     ]
    },
    {
     "ename": "KeyboardInterrupt",
     "evalue": "",
     "output_type": "error",
     "traceback": [
      "\u001B[1;31m---------------------------------------------------------------------------\u001B[0m",
      "\u001B[1;31mKeyboardInterrupt\u001B[0m                         Traceback (most recent call last)",
      "Cell \u001B[1;32mIn[16], line 19\u001B[0m\n\u001B[0;32m     16\u001B[0m \u001B[38;5;28;01mwith\u001B[39;00m torch\u001B[38;5;241m.\u001B[39mno_grad():\n\u001B[0;32m     17\u001B[0m     seq_ \u001B[38;5;241m=\u001B[39m seq[:,\u001B[38;5;241m0\u001B[39m:t,:]\n\u001B[1;32m---> 19\u001B[0m     prediction \u001B[38;5;241m=\u001B[39m \u001B[43mtorch\u001B[49m\u001B[38;5;241m.\u001B[39msigmoid(model\u001B[38;5;241m.\u001B[39mforward(seq, stat))\n\u001B[0;32m     20\u001B[0m     prediction \u001B[38;5;241m=\u001B[39m [map_value([\u001B[38;5;241m0\u001B[39m][\u001B[38;5;241m0\u001B[39m]) \u001B[38;5;28;01mfor\u001B[39;00m pred \u001B[38;5;129;01min\u001B[39;00m prediction]\n\u001B[0;32m     21\u001B[0m     \u001B[38;5;28mprint\u001B[39m(prediction)\n",
      "Cell \u001B[1;32mIn[16], line 19\u001B[0m\n\u001B[0;32m     16\u001B[0m \u001B[38;5;28;01mwith\u001B[39;00m torch\u001B[38;5;241m.\u001B[39mno_grad():\n\u001B[0;32m     17\u001B[0m     seq_ \u001B[38;5;241m=\u001B[39m seq[:,\u001B[38;5;241m0\u001B[39m:t,:]\n\u001B[1;32m---> 19\u001B[0m     prediction \u001B[38;5;241m=\u001B[39m \u001B[43mtorch\u001B[49m\u001B[38;5;241m.\u001B[39msigmoid(model\u001B[38;5;241m.\u001B[39mforward(seq, stat))\n\u001B[0;32m     20\u001B[0m     prediction \u001B[38;5;241m=\u001B[39m [map_value([\u001B[38;5;241m0\u001B[39m][\u001B[38;5;241m0\u001B[39m]) \u001B[38;5;28;01mfor\u001B[39;00m pred \u001B[38;5;129;01min\u001B[39;00m prediction]\n\u001B[0;32m     21\u001B[0m     \u001B[38;5;28mprint\u001B[39m(prediction)\n",
      "File \u001B[1;32m_pydevd_bundle\\pydevd_cython_win32_38_64.pyx:1179\u001B[0m, in \u001B[0;36m_pydevd_bundle.pydevd_cython_win32_38_64.SafeCallWrapper.__call__\u001B[1;34m()\u001B[0m\n",
      "File \u001B[1;32m_pydevd_bundle\\pydevd_cython_win32_38_64.pyx:620\u001B[0m, in \u001B[0;36m_pydevd_bundle.pydevd_cython_win32_38_64.PyDBFrame.trace_dispatch\u001B[1;34m()\u001B[0m\n",
      "File \u001B[1;32m_pydevd_bundle\\pydevd_cython_win32_38_64.pyx:929\u001B[0m, in \u001B[0;36m_pydevd_bundle.pydevd_cython_win32_38_64.PyDBFrame.trace_dispatch\u001B[1;34m()\u001B[0m\n",
      "File \u001B[1;32m_pydevd_bundle\\pydevd_cython_win32_38_64.pyx:920\u001B[0m, in \u001B[0;36m_pydevd_bundle.pydevd_cython_win32_38_64.PyDBFrame.trace_dispatch\u001B[1;34m()\u001B[0m\n",
      "File \u001B[1;32m_pydevd_bundle\\pydevd_cython_win32_38_64.pyx:317\u001B[0m, in \u001B[0;36m_pydevd_bundle.pydevd_cython_win32_38_64.PyDBFrame.do_wait_suspend\u001B[1;34m()\u001B[0m\n",
      "File \u001B[1;32mC:\\Program Files\\JetBrains\\PyCharm 2022.1.1\\plugins\\python\\helpers\\pydev\\pydevd.py:1155\u001B[0m, in \u001B[0;36mPyDB.do_wait_suspend\u001B[1;34m(self, thread, frame, event, arg, send_suspend_message, is_unhandled_exception)\u001B[0m\n\u001B[0;32m   1152\u001B[0m         from_this_thread\u001B[38;5;241m.\u001B[39mappend(frame_id)\n\u001B[0;32m   1154\u001B[0m \u001B[38;5;28;01mwith\u001B[39;00m \u001B[38;5;28mself\u001B[39m\u001B[38;5;241m.\u001B[39m_threads_suspended_single_notification\u001B[38;5;241m.\u001B[39mnotify_thread_suspended(thread_id, stop_reason):\n\u001B[1;32m-> 1155\u001B[0m     \u001B[38;5;28;43mself\u001B[39;49m\u001B[38;5;241;43m.\u001B[39;49m\u001B[43m_do_wait_suspend\u001B[49m\u001B[43m(\u001B[49m\u001B[43mthread\u001B[49m\u001B[43m,\u001B[49m\u001B[43m \u001B[49m\u001B[43mframe\u001B[49m\u001B[43m,\u001B[49m\u001B[43m \u001B[49m\u001B[43mevent\u001B[49m\u001B[43m,\u001B[49m\u001B[43m \u001B[49m\u001B[43marg\u001B[49m\u001B[43m,\u001B[49m\u001B[43m \u001B[49m\u001B[43msuspend_type\u001B[49m\u001B[43m,\u001B[49m\u001B[43m \u001B[49m\u001B[43mfrom_this_thread\u001B[49m\u001B[43m)\u001B[49m\n",
      "File \u001B[1;32mC:\\Program Files\\JetBrains\\PyCharm 2022.1.1\\plugins\\python\\helpers\\pydev\\pydevd.py:1170\u001B[0m, in \u001B[0;36mPyDB._do_wait_suspend\u001B[1;34m(self, thread, frame, event, arg, suspend_type, from_this_thread)\u001B[0m\n\u001B[0;32m   1167\u001B[0m             \u001B[38;5;28mself\u001B[39m\u001B[38;5;241m.\u001B[39m_call_mpl_hook()\n\u001B[0;32m   1169\u001B[0m         \u001B[38;5;28mself\u001B[39m\u001B[38;5;241m.\u001B[39mprocess_internal_commands()\n\u001B[1;32m-> 1170\u001B[0m         \u001B[43mtime\u001B[49m\u001B[38;5;241;43m.\u001B[39;49m\u001B[43msleep\u001B[49m\u001B[43m(\u001B[49m\u001B[38;5;241;43m0.01\u001B[39;49m\u001B[43m)\u001B[49m\n\u001B[0;32m   1172\u001B[0m \u001B[38;5;28mself\u001B[39m\u001B[38;5;241m.\u001B[39mcancel_async_evaluation(get_current_thread_id(thread), \u001B[38;5;28mstr\u001B[39m(\u001B[38;5;28mid\u001B[39m(frame)))\n\u001B[0;32m   1174\u001B[0m \u001B[38;5;66;03m# process any stepping instructions\u001B[39;00m\n",
      "\u001B[1;31mKeyboardInterrupt\u001B[0m: "
     ]
    }
   ],
   "source": [
    "y_values = []\n",
    "\n",
    "n = 0\n",
    "for model, dataset in zip(model_list,data_list):\n",
    "    values = {\"fold\" : dataset[\"fold\"], \"data\" : []}\n",
    "    print(n)\n",
    "    n += 1\n",
    "    i = 5\n",
    "    pre_i = 0\n",
    "    seq = torch.from_numpy(dataset[\"x_test_seq\"])\n",
    "    stat = torch.from_numpy(dataset[\"x_test_stat\"])\n",
    "    label = torch.from_numpy(dataset[\"label\"])\n",
    "    timestamps = seq.shape[1]\n",
    "    for t in range(1, timestamps):\n",
    "        pre_t = 0\n",
    "        model.eval()\n",
    "        with torch.no_grad():\n",
    "            seq_ = seq[:,pre_t:t,:]\n",
    "\n",
    "            prediction = torch.sigmoid(model.forward(seq[i][0:5], stat[0:5]))\n",
    "\n",
    "            prediction = torch.sigmoid(model.forward(seq, stat))\n",
    "            prediction = [map_value([0][0]) for pred in prediction]\n",
    "            print(prediction)\n",
    "            #values[\"data\"].append(calc_roc_auc(dataset[\"label\"], prediction))\n",
    "            fpr, tpr, x = metrics.roc_curve(dataset[\"label\"][pre_i : i], prediction)\n",
    "            values[\"data\"].append(metrics.auc(fpr, tpr))\n",
    "\n",
    "        pre_t = t\n",
    "    y_values.append(values)"
   ],
   "metadata": {
    "collapsed": false,
    "pycharm": {
     "name": "#%%\n"
    }
   }
  },
  {
   "cell_type": "code",
   "execution_count": 134,
   "outputs": [
    {
     "data": {
      "text/plain": "tensor([[1.0000, 1.0000, 0.0000, 0.0000, 0.0000, 1.0000, 1.0000, 0.0000, 0.6111,\n         1.0000, 0.0000, 0.0000, 0.0000, 1.0000, 1.0000, 1.0000, 1.0000, 0.0000,\n         0.0000, 1.0000, 0.0000, 1.0000, 1.0000],\n        [1.0000, 1.0000, 0.0000, 0.0000, 0.0000, 1.0000, 1.0000, 0.0000, 0.6111,\n         1.0000, 0.0000, 0.0000, 0.0000, 1.0000, 1.0000, 1.0000, 1.0000, 0.0000,\n         0.0000, 1.0000, 0.0000, 1.0000, 1.0000],\n        [1.0000, 1.0000, 0.0000, 0.0000, 0.0000, 1.0000, 1.0000, 0.0000, 0.6111,\n         1.0000, 0.0000, 0.0000, 0.0000, 1.0000, 1.0000, 1.0000, 1.0000, 0.0000,\n         0.0000, 1.0000, 0.0000, 1.0000, 1.0000]], dtype=torch.float64)"
     },
     "execution_count": 134,
     "metadata": {},
     "output_type": "execute_result"
    }
   ],
   "source": [
    "torch.from_numpy(dataset[\"x_test_stat\"])[[0,2,4]]"
   ],
   "metadata": {
    "collapsed": false,
    "pycharm": {
     "name": "#%%\n"
    }
   }
  },
  {
   "cell_type": "code",
   "execution_count": 7,
   "outputs": [],
   "source": [
    "def getPrefixLength(seq, sample):\n",
    "    counter = 0\n",
    "    rowCounter = -1\n",
    "    lastRow = None\n",
    "    actualPrefixRows = 0\n",
    "    for matrix in seq[sample,:,:]:\n",
    "        #print(matrix)\n",
    "        rowCounter += 1\n",
    "\n",
    "        notZero = False\n",
    "\n",
    "        for x in matrix:\n",
    "            x = float(x)\n",
    "            if x != 0:\n",
    "                notZero = True\n",
    "                break\n",
    "\n",
    "        if notZero:\n",
    "            lastRow = matrix\n",
    "            actualPrefixRows = rowCounter\n",
    "\n",
    "    if lastRow != None:\n",
    "        for entry in lastRow:\n",
    "            if entry == 0:\n",
    "                counter += 1\n",
    "\n",
    "            if entry != 0:\n",
    "                counter += 1\n",
    "                break\n",
    "\n",
    "    #print(actualPrefixRows)\n",
    "    #print(counter)\n",
    "    #print(rowCounter)\n",
    "    #print(lastRow)\n",
    "\n",
    "    return counter + (actualPrefixRows * len(lastRow))"
   ],
   "metadata": {
    "collapsed": false,
    "pycharm": {
     "name": "#%%\n"
    }
   }
  },
  {
   "cell_type": "code",
   "execution_count": 24,
   "outputs": [
    {
     "data": {
      "text/plain": "tensor([[0.0000, 0.0000, 0.0000, 1.0000, 0.0000, 0.0000, 0.0000, 0.0000, 0.0000,\n         0.0000, 0.0000, 0.0000, 0.0000, 0.0000, 0.0000, 0.0000],\n        [0.0000, 0.0000, 0.0000, 0.0000, 1.0000, 0.0000, 0.0000, 0.0000, 0.0000,\n         0.0000, 0.0000, 0.0000, 0.0000, 0.0000, 0.0000, 0.0000],\n        [0.0000, 0.0000, 0.0000, 0.0000, 0.0000, 1.0000, 0.0000, 0.0000, 0.0000,\n         0.0000, 0.0000, 0.0000, 0.0000, 0.0000, 0.0000, 0.0000],\n        [0.0000, 0.5404, 0.0000, 0.0000, 0.0000, 0.0000, 0.0000, 0.0000, 0.0000,\n         0.0000, 0.0000, 0.0000, 0.0000, 0.0000, 0.0000, 0.0000],\n        [0.0000, 0.5404, 0.2261, 0.0000, 0.0000, 0.0000, 0.0000, 0.0000, 0.0000,\n         0.0000, 0.0000, 0.0000, 0.0000, 0.0000, 0.0000, 0.0000],\n        [0.0000, 0.0000, 0.0000, 0.0000, 0.0000, 0.0000, 0.0000, 0.0000, 0.0000,\n         0.0000, 0.0000, 0.0000, 0.0000, 0.0000, 0.0000, 0.0000],\n        [0.0000, 0.0000, 0.0000, 0.0000, 0.0000, 0.0000, 0.0000, 0.0000, 0.0000,\n         0.0000, 0.0000, 0.0000, 0.0000, 0.0000, 0.0000, 0.0000],\n        [0.0000, 0.0000, 0.0000, 0.0000, 0.0000, 0.0000, 0.0000, 0.0000, 0.0000,\n         0.0000, 0.0000, 0.0000, 0.0000, 0.0000, 0.0000, 0.0000],\n        [0.0000, 0.0000, 0.0000, 0.0000, 0.0000, 0.0000, 0.0000, 0.0000, 0.0000,\n         0.0000, 0.0000, 0.0000, 0.0000, 0.0000, 0.0000, 0.0000],\n        [0.0000, 0.0000, 0.0000, 0.0000, 0.0000, 0.0000, 0.0000, 0.0000, 0.0000,\n         0.0000, 0.0000, 0.0000, 0.0000, 0.0000, 0.0000, 0.0000],\n        [0.0000, 0.0000, 0.0000, 0.0000, 0.0000, 0.0000, 0.0000, 0.0000, 0.0000,\n         0.0000, 0.0000, 0.0000, 0.0000, 0.0000, 0.0000, 0.0000],\n        [0.0000, 0.0000, 0.0000, 0.0000, 0.0000, 0.0000, 0.0000, 0.0000, 0.0000,\n         0.0000, 0.0000, 0.0000, 0.0000, 0.0000, 0.0000, 0.0000],\n        [0.0000, 0.0000, 0.0000, 0.0000, 0.0000, 0.0000, 0.0000, 0.0000, 0.0000,\n         0.0000, 0.0000, 0.0000, 0.0000, 0.0000, 0.0000, 0.0000],\n        [0.0000, 0.0000, 0.0000, 0.0000, 0.0000, 0.0000, 0.0000, 0.0000, 0.0000,\n         0.0000, 0.0000, 0.0000, 0.0000, 0.0000, 0.0000, 0.0000],\n        [0.0000, 0.0000, 0.0000, 0.0000, 0.0000, 0.0000, 0.0000, 0.0000, 0.0000,\n         0.0000, 0.0000, 0.0000, 0.0000, 0.0000, 0.0000, 0.0000],\n        [0.0000, 0.0000, 0.0000, 0.0000, 0.0000, 0.0000, 0.0000, 0.0000, 0.0000,\n         0.0000, 0.0000, 0.0000, 0.0000, 0.0000, 0.0000, 0.0000],\n        [0.0000, 0.0000, 0.0000, 0.0000, 0.0000, 0.0000, 0.0000, 0.0000, 0.0000,\n         0.0000, 0.0000, 0.0000, 0.0000, 0.0000, 0.0000, 0.0000],\n        [0.0000, 0.0000, 0.0000, 0.0000, 0.0000, 0.0000, 0.0000, 0.0000, 0.0000,\n         0.0000, 0.0000, 0.0000, 0.0000, 0.0000, 0.0000, 0.0000],\n        [0.0000, 0.0000, 0.0000, 0.0000, 0.0000, 0.0000, 0.0000, 0.0000, 0.0000,\n         0.0000, 0.0000, 0.0000, 0.0000, 0.0000, 0.0000, 0.0000],\n        [0.0000, 0.0000, 0.0000, 0.0000, 0.0000, 0.0000, 0.0000, 0.0000, 0.0000,\n         0.0000, 0.0000, 0.0000, 0.0000, 0.0000, 0.0000, 0.0000],\n        [0.0000, 0.0000, 0.0000, 0.0000, 0.0000, 0.0000, 0.0000, 0.0000, 0.0000,\n         0.0000, 0.0000, 0.0000, 0.0000, 0.0000, 0.0000, 0.0000],\n        [0.0000, 0.0000, 0.0000, 0.0000, 0.0000, 0.0000, 0.0000, 0.0000, 0.0000,\n         0.0000, 0.0000, 0.0000, 0.0000, 0.0000, 0.0000, 0.0000],\n        [0.0000, 0.0000, 0.0000, 0.0000, 0.0000, 0.0000, 0.0000, 0.0000, 0.0000,\n         0.0000, 0.0000, 0.0000, 0.0000, 0.0000, 0.0000, 0.0000],\n        [0.0000, 0.0000, 0.0000, 0.0000, 0.0000, 0.0000, 0.0000, 0.0000, 0.0000,\n         0.0000, 0.0000, 0.0000, 0.0000, 0.0000, 0.0000, 0.0000],\n        [0.0000, 0.0000, 0.0000, 0.0000, 0.0000, 0.0000, 0.0000, 0.0000, 0.0000,\n         0.0000, 0.0000, 0.0000, 0.0000, 0.0000, 0.0000, 0.0000],\n        [0.0000, 0.0000, 0.0000, 0.0000, 0.0000, 0.0000, 0.0000, 0.0000, 0.0000,\n         0.0000, 0.0000, 0.0000, 0.0000, 0.0000, 0.0000, 0.0000],\n        [0.0000, 0.0000, 0.0000, 0.0000, 0.0000, 0.0000, 0.0000, 0.0000, 0.0000,\n         0.0000, 0.0000, 0.0000, 0.0000, 0.0000, 0.0000, 0.0000],\n        [0.0000, 0.0000, 0.0000, 0.0000, 0.0000, 0.0000, 0.0000, 0.0000, 0.0000,\n         0.0000, 0.0000, 0.0000, 0.0000, 0.0000, 0.0000, 0.0000],\n        [0.0000, 0.0000, 0.0000, 0.0000, 0.0000, 0.0000, 0.0000, 0.0000, 0.0000,\n         0.0000, 0.0000, 0.0000, 0.0000, 0.0000, 0.0000, 0.0000],\n        [0.0000, 0.0000, 0.0000, 0.0000, 0.0000, 0.0000, 0.0000, 0.0000, 0.0000,\n         0.0000, 0.0000, 0.0000, 0.0000, 0.0000, 0.0000, 0.0000],\n        [0.0000, 0.0000, 0.0000, 0.0000, 0.0000, 0.0000, 0.0000, 0.0000, 0.0000,\n         0.0000, 0.0000, 0.0000, 0.0000, 0.0000, 0.0000, 0.0000],\n        [0.0000, 0.0000, 0.0000, 0.0000, 0.0000, 0.0000, 0.0000, 0.0000, 0.0000,\n         0.0000, 0.0000, 0.0000, 0.0000, 0.0000, 0.0000, 0.0000],\n        [0.0000, 0.0000, 0.0000, 0.0000, 0.0000, 0.0000, 0.0000, 0.0000, 0.0000,\n         0.0000, 0.0000, 0.0000, 0.0000, 0.0000, 0.0000, 0.0000],\n        [0.0000, 0.0000, 0.0000, 0.0000, 0.0000, 0.0000, 0.0000, 0.0000, 0.0000,\n         0.0000, 0.0000, 0.0000, 0.0000, 0.0000, 0.0000, 0.0000],\n        [0.0000, 0.0000, 0.0000, 0.0000, 0.0000, 0.0000, 0.0000, 0.0000, 0.0000,\n         0.0000, 0.0000, 0.0000, 0.0000, 0.0000, 0.0000, 0.0000],\n        [0.0000, 0.0000, 0.0000, 0.0000, 0.0000, 0.0000, 0.0000, 0.0000, 0.0000,\n         0.0000, 0.0000, 0.0000, 0.0000, 0.0000, 0.0000, 0.0000],\n        [0.0000, 0.0000, 0.0000, 0.0000, 0.0000, 0.0000, 0.0000, 0.0000, 0.0000,\n         0.0000, 0.0000, 0.0000, 0.0000, 0.0000, 0.0000, 0.0000],\n        [0.0000, 0.0000, 0.0000, 0.0000, 0.0000, 0.0000, 0.0000, 0.0000, 0.0000,\n         0.0000, 0.0000, 0.0000, 0.0000, 0.0000, 0.0000, 0.0000],\n        [0.0000, 0.0000, 0.0000, 0.0000, 0.0000, 0.0000, 0.0000, 0.0000, 0.0000,\n         0.0000, 0.0000, 0.0000, 0.0000, 0.0000, 0.0000, 0.0000],\n        [0.0000, 0.0000, 0.0000, 0.0000, 0.0000, 0.0000, 0.0000, 0.0000, 0.0000,\n         0.0000, 0.0000, 0.0000, 0.0000, 0.0000, 0.0000, 0.0000],\n        [0.0000, 0.0000, 0.0000, 0.0000, 0.0000, 0.0000, 0.0000, 0.0000, 0.0000,\n         0.0000, 0.0000, 0.0000, 0.0000, 0.0000, 0.0000, 0.0000],\n        [0.0000, 0.0000, 0.0000, 0.0000, 0.0000, 0.0000, 0.0000, 0.0000, 0.0000,\n         0.0000, 0.0000, 0.0000, 0.0000, 0.0000, 0.0000, 0.0000],\n        [0.0000, 0.0000, 0.0000, 0.0000, 0.0000, 0.0000, 0.0000, 0.0000, 0.0000,\n         0.0000, 0.0000, 0.0000, 0.0000, 0.0000, 0.0000, 0.0000],\n        [0.0000, 0.0000, 0.0000, 0.0000, 0.0000, 0.0000, 0.0000, 0.0000, 0.0000,\n         0.0000, 0.0000, 0.0000, 0.0000, 0.0000, 0.0000, 0.0000],\n        [0.0000, 0.0000, 0.0000, 0.0000, 0.0000, 0.0000, 0.0000, 0.0000, 0.0000,\n         0.0000, 0.0000, 0.0000, 0.0000, 0.0000, 0.0000, 0.0000],\n        [0.0000, 0.0000, 0.0000, 0.0000, 0.0000, 0.0000, 0.0000, 0.0000, 0.0000,\n         0.0000, 0.0000, 0.0000, 0.0000, 0.0000, 0.0000, 0.0000],\n        [0.0000, 0.0000, 0.0000, 0.0000, 0.0000, 0.0000, 0.0000, 0.0000, 0.0000,\n         0.0000, 0.0000, 0.0000, 0.0000, 0.0000, 0.0000, 0.0000],\n        [0.0000, 0.0000, 0.0000, 0.0000, 0.0000, 0.0000, 0.0000, 0.0000, 0.0000,\n         0.0000, 0.0000, 0.0000, 0.0000, 0.0000, 0.0000, 0.0000],\n        [0.0000, 0.0000, 0.0000, 0.0000, 0.0000, 0.0000, 0.0000, 0.0000, 0.0000,\n         0.0000, 0.0000, 0.0000, 0.0000, 0.0000, 0.0000, 0.0000],\n        [0.0000, 0.0000, 0.0000, 0.0000, 0.0000, 0.0000, 0.0000, 0.0000, 0.0000,\n         0.0000, 0.0000, 0.0000, 0.0000, 0.0000, 0.0000, 0.0000]])"
     },
     "execution_count": 24,
     "metadata": {},
     "output_type": "execute_result"
    }
   ],
   "source": [
    "getPrefixLength((torch.from_numpy(data_list[0][\"x_test_seq\"])), 23)\n",
    "torch.from_numpy(data_list[0][\"x_test_seq\"])[51,:,:]\n",
    "#torch.from_numpy(data_list[0][\"x_test_seq\"])[0]"
   ],
   "metadata": {
    "collapsed": false,
    "pycharm": {
     "name": "#%%\n"
    }
   }
  },
  {
   "cell_type": "code",
   "execution_count": 11,
   "outputs": [],
   "source": [
    "def getPrefixDictionary(seq):\n",
    "    samples = seq.shape[0]\n",
    "    print(samples)\n",
    "\n",
    "    mapList = []\n",
    "    uniquePrefixSizes = []\n",
    "    for t in range(0, samples):\n",
    "        indexPrefixSizeMap = {\"index\" : t, \"prefixSize\" : getPrefixLength(seq, t)}\n",
    "        #print(\"sample \" + str(t) + \": \" + str(getPrefixLength(seq, t)))\n",
    "        mapList.append(indexPrefixSizeMap)\n",
    "        uniquePrefixSizes.append(getPrefixLength(seq, t))\n",
    "\n",
    "    uniquePrefixSizes = set(uniquePrefixSizes)\n",
    "    #print(uniquePrefixSizes)\n",
    "\n",
    "    prefixDictionaryList = []\n",
    "\n",
    "    for prefixSize in uniquePrefixSizes:\n",
    "        prefixDictionary = {}\n",
    "        prefixDictionary[\"prefixSize\"] = prefixSize\n",
    "        prefixDictionary[\"indizes\"] = []\n",
    "        for entry in mapList:\n",
    "            if entry[\"prefixSize\"] == prefixSize:\n",
    "                prefixDictionary[\"indizes\"].append(entry[\"index\"])\n",
    "        prefixDictionaryList.append(prefixDictionary)\n",
    "\n",
    "    #print(prefixDictionary)\n",
    "    return prefixDictionaryList\n"
   ],
   "metadata": {
    "collapsed": false,
    "pycharm": {
     "name": "#%%\n"
    }
   }
  },
  {
   "cell_type": "code",
   "execution_count": 12,
   "outputs": [
    {
     "name": "stdout",
     "output_type": "stream",
     "text": [
      "183\n"
     ]
    },
    {
     "data": {
      "text/plain": "[{'prefixSize': 129, 'indizes': [8, 24, 41, 55, 70, 102, 122, 144, 164, 177]},\n {'prefixSize': 257, 'indizes': [32]},\n {'prefixSize': 4,\n  'indizes': [0,\n   16,\n   33,\n   44,\n   47,\n   62,\n   72,\n   80,\n   88,\n   94,\n   106,\n   114,\n   125,\n   133,\n   136,\n   151,\n   156,\n   169]},\n {'prefixSize': 145, 'indizes': [9, 25, 42, 56, 71, 103, 123, 145, 165, 178]},\n {'prefixSize': 21,\n  'indizes': [1,\n   17,\n   34,\n   45,\n   48,\n   63,\n   73,\n   81,\n   89,\n   95,\n   107,\n   115,\n   126,\n   134,\n   137,\n   152,\n   157,\n   170]},\n {'prefixSize': 161, 'indizes': [10, 26, 43, 57, 104, 124, 146, 166, 179]},\n {'prefixSize': 34, 'indizes': [74]},\n {'prefixSize': 38,\n  'indizes': [2,\n   18,\n   35,\n   46,\n   49,\n   64,\n   82,\n   90,\n   96,\n   108,\n   116,\n   127,\n   135,\n   138,\n   153,\n   158,\n   171]},\n {'prefixSize': 177, 'indizes': [11, 27, 58, 105, 147, 167, 180]},\n {'prefixSize': 50, 'indizes': [50, 75, 109, 139]},\n {'prefixSize': 51, 'indizes': [19, 36]},\n {'prefixSize': 49, 'indizes': [65, 91, 117, 154, 159]},\n {'prefixSize': 55, 'indizes': [3, 83, 97, 128, 172]},\n {'prefixSize': 193, 'indizes': [12, 28, 59, 148, 168, 181]},\n {'prefixSize': 65, 'indizes': [20, 37, 66, 76, 92, 118, 129, 155, 160]},\n {'prefixSize': 66, 'indizes': [51, 110, 140]},\n {'prefixSize': 72, 'indizes': [4, 84, 85, 98, 173]},\n {'prefixSize': 209, 'indizes': [13, 29, 60, 149, 182]},\n {'prefixSize': 82, 'indizes': [5, 111, 174]},\n {'prefixSize': 81,\n  'indizes': [21, 38, 52, 67, 77, 93, 99, 119, 130, 141, 161]},\n {'prefixSize': 225, 'indizes': [14, 30, 61, 150]},\n {'prefixSize': 98, 'indizes': [6, 112]},\n {'prefixSize': 97,\n  'indizes': [22, 39, 53, 68, 78, 86, 100, 120, 131, 142, 162, 175]},\n {'prefixSize': 113,\n  'indizes': [7, 23, 40, 54, 69, 79, 87, 101, 121, 132, 143, 163, 176]},\n {'prefixSize': 241, 'indizes': [15, 31]},\n {'prefixSize': 114, 'indizes': [113]}]"
     },
     "execution_count": 12,
     "metadata": {},
     "output_type": "execute_result"
    }
   ],
   "source": [
    "getPrefixDictionary((torch.from_numpy(data_list[0][\"x_test_seq\"])))"
   ],
   "metadata": {
    "collapsed": false,
    "pycharm": {
     "name": "#%%\n"
    }
   }
  },
  {
   "cell_type": "code",
   "execution_count": 14,
   "outputs": [
    {
     "data": {
      "text/plain": "161"
     },
     "execution_count": 14,
     "metadata": {},
     "output_type": "execute_result"
    }
   ],
   "source": [
    "getPrefixLength((torch.from_numpy(data_list[0][\"x_test_seq\"])), 10)"
   ],
   "metadata": {
    "collapsed": false,
    "pycharm": {
     "name": "#%%\n"
    }
   }
  },
  {
   "cell_type": "code",
   "execution_count": 29,
   "outputs": [
    {
     "name": "stdout",
     "output_type": "stream",
     "text": [
      "183\n",
      "except\n",
      "except\n",
      "except\n",
      "except\n",
      "except\n",
      "except\n",
      "except\n",
      "except\n",
      "except\n",
      "except\n",
      "except\n",
      "except\n",
      "except\n",
      "except\n",
      "except\n",
      "except\n",
      "except\n",
      "except\n",
      "194\n",
      "except\n",
      "except\n",
      "except\n",
      "except\n",
      "except\n",
      "except\n",
      "except\n",
      "except\n",
      "except\n",
      "except\n",
      "except\n",
      "except\n",
      "except\n",
      "except\n",
      "except\n",
      "except\n",
      "except\n",
      "except\n",
      "except\n",
      "185\n",
      "except\n",
      "except\n",
      "except\n",
      "except\n",
      "except\n",
      "except\n",
      "except\n",
      "except\n",
      "except\n",
      "except\n",
      "except\n",
      "except\n",
      "except\n",
      "except\n",
      "except\n",
      "except\n",
      "except\n",
      "except\n",
      "except\n",
      "except\n",
      "except\n",
      "except\n",
      "except\n",
      "except\n",
      "except\n",
      "except\n",
      "except\n",
      "except\n",
      "except\n",
      "except\n",
      "except\n",
      "except\n",
      "except\n",
      "197\n",
      "except\n",
      "except\n",
      "except\n",
      "except\n",
      "except\n",
      "except\n",
      "except\n",
      "except\n",
      "except\n",
      "except\n",
      "except\n",
      "except\n",
      "except\n",
      "except\n",
      "except\n",
      "except\n",
      "except\n",
      "except\n",
      "except\n",
      "except\n",
      "except\n",
      "except\n",
      "except\n",
      "except\n",
      "except\n",
      "191\n",
      "except\n",
      "except\n",
      "except\n",
      "except\n",
      "except\n",
      "except\n",
      "except\n",
      "except\n",
      "except\n",
      "except\n",
      "except\n",
      "except\n",
      "except\n",
      "except\n",
      "except\n",
      "except\n",
      "except\n",
      "except\n",
      "except\n",
      "except\n",
      "except\n",
      "except\n",
      "except\n",
      "except\n",
      "except\n",
      "except\n",
      "except\n",
      "except\n",
      "except\n"
     ]
    }
   ],
   "source": [
    "result = []\n",
    "\n",
    "for model, dataset in zip(model_list,data_list):\n",
    "    values = {\"model\" : dataset[\"fold\"], \"data\" : []}\n",
    "\n",
    "    seq = torch.from_numpy(dataset[\"x_test_seq\"])\n",
    "    stat = torch.from_numpy(dataset[\"x_test_stat\"])\n",
    "    label = torch.from_numpy(dataset[\"label\"])\n",
    "\n",
    "    prefixLengthDictList = getPrefixDictionary(seq)\n",
    "\n",
    "    for prefixLengthDict in prefixLengthDictList:\n",
    "        performancePrefixDict = {\"PrefixLength\" : prefixLengthDict[\"prefixSize\"]}\n",
    "\n",
    "        prefixSeq = seq[prefixLengthDict[\"indizes\"],:,:]\n",
    "        prefixStat = stat[prefixLengthDict[\"indizes\"],:]\n",
    "        prefixLabel = label[prefixLengthDict[\"indizes\"]]\n",
    "\n",
    "        model.eval()\n",
    "        with torch.no_grad():\n",
    "\n",
    "            prediction = torch.sigmoid(model.forward(prefixSeq, prefixStat))\n",
    "            prediction = [map_value([0][0]) for pred in prediction]\n",
    "            #print((prediction))\n",
    "            #print((prefixLabel))\n",
    "\n",
    "            performancePrefixDict[\"AUC\"] = calc_roc_auc(prefixLabel, prediction)\n",
    "\n",
    "            #rocauc = metrics.roc_auc_score(prefixLabel, prediction)\n",
    "            #print(rocauc)\n",
    "            #performancePrefixDict[\"AUC\"] = rocauc\n",
    "\n",
    "            values[\"data\"].append(performancePrefixDict)\n",
    "\n",
    "    result.append(values)\n"
   ],
   "metadata": {
    "collapsed": false,
    "pycharm": {
     "name": "#%%\n"
    }
   }
  },
  {
   "cell_type": "code",
   "execution_count": 34,
   "outputs": [
    {
     "ename": "TypeError",
     "evalue": "list indices must be integers or slices, not str",
     "output_type": "error",
     "traceback": [
      "\u001B[1;31m---------------------------------------------------------------------------\u001B[0m",
      "\u001B[1;31mTypeError\u001B[0m                                 Traceback (most recent call last)",
      "Cell \u001B[1;32mIn[34], line 2\u001B[0m\n\u001B[0;32m      1\u001B[0m \u001B[38;5;28;01mfor\u001B[39;00m \u001B[38;5;28mdict\u001B[39m \u001B[38;5;129;01min\u001B[39;00m result:\n\u001B[1;32m----> 2\u001B[0m     x_axis \u001B[38;5;241m=\u001B[39m \u001B[38;5;28;43mdict\u001B[39;49m\u001B[43m[\u001B[49m\u001B[38;5;124;43m\"\u001B[39;49m\u001B[38;5;124;43mdata\u001B[39;49m\u001B[38;5;124;43m\"\u001B[39;49m\u001B[43m]\u001B[49m\u001B[43m[\u001B[49m\u001B[38;5;124;43m\"\u001B[39;49m\u001B[38;5;124;43mPrefixLength\u001B[39;49m\u001B[38;5;124;43m\"\u001B[39;49m\u001B[43m]\u001B[49m\n\u001B[0;32m      3\u001B[0m     plt\u001B[38;5;241m.\u001B[39mplot(x_axis, \u001B[38;5;28mdict\u001B[39m[\u001B[38;5;124m\"\u001B[39m\u001B[38;5;124mdata\u001B[39m\u001B[38;5;124m\"\u001B[39m][\u001B[38;5;124m\"\u001B[39m\u001B[38;5;124mAUC\u001B[39m\u001B[38;5;124m\"\u001B[39m], label \u001B[38;5;241m=\u001B[39m \u001B[38;5;28mdict\u001B[39m[\u001B[38;5;124m\"\u001B[39m\u001B[38;5;124mmodel\u001B[39m\u001B[38;5;124m\"\u001B[39m])\n\u001B[0;32m      5\u001B[0m plt\u001B[38;5;241m.\u001B[39mlegend()\n",
      "\u001B[1;31mTypeError\u001B[0m: list indices must be integers or slices, not str"
     ]
    }
   ],
   "source": [
    "\n",
    "for dict in result:\n",
    "    x_axis = dict[\"data\"][\"PrefixLength\"]\n",
    "    plt.plot(x_axis, dict[\"data\"][\"AUC\"], label = dict[\"model\"])\n",
    "\n",
    "plt.legend()\n",
    "plt.show()"
   ],
   "metadata": {
    "collapsed": false,
    "pycharm": {
     "name": "#%%\n"
    }
   }
  }
 ],
 "metadata": {
  "kernelspec": {
   "display_name": "Python 3",
   "language": "python",
   "name": "python3"
  },
  "language_info": {
   "codemirror_mode": {
    "name": "ipython",
    "version": 2
   },
   "file_extension": ".py",
   "mimetype": "text/x-python",
   "name": "python",
   "nbconvert_exporter": "python",
   "pygments_lexer": "ipython2",
   "version": "2.7.6"
  }
 },
 "nbformat": 4,
 "nbformat_minor": 0
}